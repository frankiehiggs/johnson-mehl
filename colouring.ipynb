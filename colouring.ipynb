{
 "cells": [
  {
   "cell_type": "code",
   "execution_count": null,
   "id": "19087a38-c694-4947-ae64-8d04f72767fc",
   "metadata": {},
   "outputs": [],
   "source": [
    "import json\n",
    "import networkx as nx\n",
    "from sage.all import *\n",
    "from sage.graphs.graph_coloring import vertex_coloring"
   ]
  },
  {
   "cell_type": "code",
   "execution_count": null,
   "id": "2ce91638-5dfd-4e1e-b571-47af35ec0eda",
   "metadata": {},
   "outputs": [],
   "source": [
    "ncolours = 5 # If we're very patient (or there aren't many cells) we can get a 4-colouring.\n",
    "supG = nx.read_adjlist('supG.adjlist')\n",
    "G = Graph(supG)\n",
    "colour_classes = vertex_coloring(G, k=ncolours)\n",
    "colours = {}\n",
    "for i in range(ncolours):\n",
    "    for v in colour_classes[i]:\n",
    "        colours[v] = i"
   ]
  },
  {
   "cell_type": "code",
   "execution_count": null,
   "id": "9d3889a8-5da0-4226-90b3-73834dc6a218",
   "metadata": {},
   "outputs": [],
   "source": [
    "with open('colouring.json','w') as colfile:\n",
    "    json.dump(colours,colfile)"
   ]
  },
  {
   "cell_type": "code",
   "execution_count": null,
   "id": "0a29da89-ca0a-4537-87db-9a8444e53676",
   "metadata": {},
   "outputs": [],
   "source": []
  }
 ],
 "metadata": {
  "kernelspec": {
   "display_name": "SageMath 9.5",
   "language": "sage",
   "name": "sagemath"
  },
  "language_info": {
   "codemirror_mode": {
    "name": "ipython",
    "version": 3
   },
   "file_extension": ".py",
   "mimetype": "text/x-python",
   "name": "python",
   "nbconvert_exporter": "python",
   "pygments_lexer": "ipython3",
   "version": "3.11.2"
  }
 },
 "nbformat": 4,
 "nbformat_minor": 5
}
