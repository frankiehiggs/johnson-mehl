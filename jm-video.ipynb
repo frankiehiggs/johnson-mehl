{
 "cells": [
  {
   "cell_type": "markdown",
   "id": "4f0345b8-b2a7-4e72-af35-04e59d9199ab",
   "metadata": {
    "editable": true,
    "slideshow": {
     "slide_type": ""
    },
    "tags": []
   },
   "source": [
    "We'll make a video of the Johnson-Mehl process itself: point arriving and discs expanding.\n",
    "\n",
    "Just like with the Pareto video, we need to colour cells by the \"all-time adjacency\" graph."
   ]
  },
  {
   "cell_type": "code",
   "execution_count": 152,
   "id": "0506a76c-f7da-4fec-b2e8-1bd17f75396f",
   "metadata": {},
   "outputs": [],
   "source": [
    "import numpy as np\n",
    "from scipy.spatial import KDTree\n",
    "from tqdm import tqdm, trange\n",
    "import networkx\n",
    "import colorspace\n",
    "from PIL import Image, ImageColor, ImageDraw\n",
    "import sys\n",
    "import json\n",
    "import os\n",
    "\n",
    "from unconstrained import sample_points, prune_arrivals\n",
    "from draw_jm import get_adjacency, colour_graph, get_ball_pixels, assign_cells\n",
    "from draw_jm import assign_cells as assign_with_progress_bar"
   ]
  },
  {
   "cell_type": "code",
   "execution_count": 153,
   "id": "50c7f626-cab0-428d-af29-2ef655e0bf7a",
   "metadata": {},
   "outputs": [],
   "source": [
    "def get_arrival_times( rho, max_time=1.0, R=0 ):\n",
    "    # PROBLEM (major-ish):\n",
    "    # The \"start again if there are more than Nmax arrivals\" method\n",
    "    # means our arrival times don't exactly have the distribution of homogeneous\n",
    "    # Poisson arrivals. Instead I suppose I should generate some new samples.\n",
    "    rate = rho*(1+2*R)**2\n",
    "    Nmax = int(max_time*rate + 2*np.sqrt(max_time*rate)) # Two standard deviations above the mean\n",
    "    interarrival_times = np.random.exponential(scale=1/rate,size=Nmax)\n",
    "    arrival_times = np.cumsum(interarrival_times)\n",
    "    too_late = np.searchsorted(arrival_times,max_time,side='right') # First index where the arrival time is at least max_time\n",
    "    while too_late == Nmax: # This will be the case if we are unlucky and Nmax points arrived before time max_time. We'll just generate more points.\n",
    "        interarrival_times = np.append(interarrival_times, np.random.exponential(scale=1/rate,size=Nmax))\n",
    "        arrival_times = np.cumsum(interarrival_times)\n",
    "        too_late = np.searchsorted(arrival_times,max_time,side='right') # First index where the arrival time is at least max_time\n",
    "    return arrival_times[:too_late].copy()\n",
    "    # N = np.random.poisson(lam=rho*max_time*(1+2*R)**2)\n",
    "    # return np.sort(np.random.uniform(low=0.0, high=max_time, size=N))\n",
    "# # Needed redefining because of my foolishly using a global variable (rng)\n",
    "# # to define the version of this function in unconstrained.py.\n",
    "\n",
    "# We also need a new assign_cells so it doesn't have a progress bar.\n",
    "def assign_cells( seeds, times, img_size, T=1.0 ):\n",
    "    \"\"\"\n",
    "    Assigns all the pixels in an img_size x img_size picture\n",
    "    to their respective Johnson-Mehl cells.\n",
    "    T should be a decent upper bound on the coverage time - smaller T\n",
    "    means we check fewer points.\n",
    "    This is a modified version of Moulinec's algorithm,\n",
    "    in which we assign things which were covered by time T,\n",
    "    and leave the rest unassigned.\n",
    "    \"\"\"\n",
    "    min_cov_times = np.full((img_size,img_size),np.inf) # running minimum coverage times\n",
    "    assignments = np.full((img_size,img_size),-1,dtype=int) # everything uncovered is assigned to a separate class.\n",
    "\n",
    "    for i in range(len(times)):\n",
    "        xi = seeds[i]\n",
    "        ti = times[i]\n",
    "        indices, d2s = get_ball_pixels(xi, T-ti, img_size)\n",
    "        for k, ij_pair in enumerate(indices):\n",
    "            cov_time = np.sqrt(d2s[k])/img_size + ti\n",
    "            if cov_time < min_cov_times[ij_pair]:\n",
    "                assignments[ij_pair] = i\n",
    "                min_cov_times[ij_pair] = cov_time\n",
    "    return assignments\n",
    "\n",
    "def assign_cells_v2(seeds, times, img_size, T=1.0):\n",
    "    \"\"\"\n",
    "    Assigns all the pixels in an img_size x img_size picture\n",
    "    to their respective Johnson-Mehl cells.\n",
    "    T should be a decent upper bound on the coverage time - smaller T\n",
    "    means we check fewer points.\n",
    "    This is a simplified version of Moulinec's algorithm,\n",
    "    in which we set T (his t_0) greater than the coverage time.\n",
    "    His choice of t_0 and extra step probably does improve the speed,\n",
    "    but I prefer the simplicity of this method, especially as we have\n",
    "    a decent estimate on the coverage time when rho is large.\n",
    "    \"\"\"\n",
    "    min_cov_times = np.full((img_size,img_size),np.inf) # running minimum coverage times\n",
    "    assignments = np.empty((img_size,img_size),dtype=int)\n",
    "    for i in trange(len(times),leave=False):\n",
    "        xi = seeds[i]\n",
    "        ti = times[i]\n",
    "        indices, d2s = get_ball_pixels(xi, T-ti, img_size)\n",
    "        for k, ij_pair in enumerate(indices):\n",
    "            cov_time = np.sqrt(d2s[k])/img_size + ti\n",
    "            if cov_time < min_cov_times[ij_pair]:\n",
    "                assignments[ij_pair] = i\n",
    "                min_cov_times[ij_pair] = cov_time\n",
    "    return assignments, min_cov_times"
   ]
  },
  {
   "cell_type": "markdown",
   "id": "ffabf3f7-ba6e-4697-8992-d95fa0be65bb",
   "metadata": {},
   "source": [
    "Now that I have a fast method, it might even be possible to make an interactive slider controlling the time."
   ]
  },
  {
   "cell_type": "markdown",
   "id": "547061bd-56a1-42fc-bd98-e3b059df101d",
   "metadata": {
    "jp-MarkdownHeadingCollapsed": true
   },
   "source": [
    "### \"merging\" method"
   ]
  },
  {
   "cell_type": "code",
   "execution_count": 154,
   "id": "2babb2f1-d1f4-4099-8a25-8af1ea7a5510",
   "metadata": {
    "jupyter": {
     "source_hidden": true
    }
   },
   "outputs": [],
   "source": [
    "def merge_jm_arrivals(t1,l1,t2,l2):\n",
    "    \"\"\"\n",
    "    Given two sets of arrival times and locations from a time-homogeneous PPP,\n",
    "    merges them into a single pair.\n",
    "\n",
    "    The arguments are all numpy arrays, and both t1 and t2 should be sort\n",
    "    \"\"\"\n",
    "    totallen = len(t1)+len(t2)\n",
    "    outtimes = np.empty(totallen)\n",
    "    outseeds = np.empty((totallen,2))\n",
    "    i1 = 0\n",
    "    i2 = 0\n",
    "    while i1 < len(t1) and i2 < len(t2):\n",
    "        if t1[i1] < t2[i2]:\n",
    "            outtimes[i1+i2] = t1[i1]\n",
    "            outseeds[i1+i2] = l1[i1]\n",
    "            i1 += 1\n",
    "        else:\n",
    "            outtimes[i1+i2] = t2[i2]\n",
    "            outseeds[i1+i2] = l2[i2]\n",
    "            i2 += 1\n",
    "    if i1 == len(t1):\n",
    "        outtimes[i1+i2:] = t2[i2:]\n",
    "        outseeds[i1+i2:] = l2[i2:]\n",
    "    else:\n",
    "        outtimes[i1+i2:] = t1[i1:]\n",
    "        outseeds[i1+i2:] = l1[i1:]\n",
    "    return outtimes, outseeds"
   ]
  },
  {
   "cell_type": "code",
   "execution_count": 155,
   "id": "9a7c6ff3-47a6-4b8a-83aa-efadbb1539ed",
   "metadata": {
    "jupyter": {
     "source_hidden": true
    }
   },
   "outputs": [],
   "source": [
    "def batched_arrivals(batch_rho, batches):\n",
    "    times_processes = []\n",
    "    seeds_processes = []\n",
    "    rho = batch_rho * batches\n",
    "    for i in trange(batches,leave=False):\n",
    "        times = get_arrival_times(batch_rho)\n",
    "        seeds = sample_points(len(times))\n",
    "        arrived = prune_arrivals(times, seeds) # pruning may be slow if rho is very large.\n",
    "        times_processes.append(times[arrived])\n",
    "        seeds_processes.append(seeds[arrived])\n",
    "    times = np.concatenate(times_processes)\n",
    "    seeds = np.concatenate(seeds_processes)\n",
    "    indices = np.argsort(times)\n",
    "    times = times[indices]\n",
    "    seeds = seeds[indices]\n",
    "    print(f'We have {len(times)} arrivals in the merged processes. Pruning now.')\n",
    "    arrived = prune_arrivals(times, seeds) # pruning may be slow if rho is very large.\n",
    "    times = times[arrived]\n",
    "    seeds = seeds[arrived]\n",
    "    print(f'We have a total of {len(times)} arrivals for an arrival rate of {rho:.2e}.')\n",
    "    return times, seeds"
   ]
  },
  {
   "cell_type": "code",
   "execution_count": 156,
   "id": "786db311-f732-485e-b58b-80005ef7105e",
   "metadata": {
    "jupyter": {
     "source_hidden": true
    }
   },
   "outputs": [],
   "source": [
    "# for i in range(8,100):\n",
    "#     print(f'Generating sample {i}')\n",
    "#     times, seeds = batched_arrivals(1e7,10)\n",
    "#     np.savez(f'arrivals/rho1e8-jm-{i}',times=times,seeds=seeds)"
   ]
  },
  {
   "cell_type": "code",
   "execution_count": 157,
   "id": "3d246abd-b5b1-4661-90f1-d1970196ff83",
   "metadata": {},
   "outputs": [],
   "source": [
    "# times_processes = []\n",
    "# seeds_processes = []\n",
    "# for i in range(8):\n",
    "#     times_processes.append(np.load(f'arrivals/rho1e8-jm-times{i}.npy'))\n",
    "#     seeds_processes.append(np.load(f'arrivals/rho1e8-jm-seeds{i}.npy'))\n",
    "# for i in range(8,16):\n",
    "#     both = np.load(f'arrivals/rho1e8-jm-{i}.npz')\n",
    "#     times_processes.append(both['times'])\n",
    "#     seeds_processes.append(both['seeds'])\n",
    "# times = np.concatenate(times_processes)\n",
    "# seeds = np.concatenate(seeds_processes)\n",
    "# indices = np.argsort(times)\n",
    "# times = times[indices]\n",
    "# seeds = seeds[indices]\n",
    "# print(f'We have {len(times)} arrivals in the merged processes. Pruning now.')\n",
    "# arrived = prune_arrivals(times, seeds) # pruning may be slow if rho is very large.\n",
    "# times = times[arrived]\n",
    "# seeds = seeds[arrived]\n",
    "# print(f'We have a total of {len(times)} arrivals for an arrival rate of {16*1e8}.')"
   ]
  },
  {
   "cell_type": "markdown",
   "id": "a6fe7090-a059-42db-941a-67869a131588",
   "metadata": {},
   "source": [
    "## New method\n",
    "\n",
    "This is about 50 times faster than the old method."
   ]
  },
  {
   "cell_type": "code",
   "execution_count": 158,
   "id": "de1ef8f1-bc80-4b73-8ec1-4c6403ca9034",
   "metadata": {
    "jupyter": {
     "source_hidden": true
    }
   },
   "outputs": [],
   "source": [
    "def produce_video_frames(rho,resolution,nframes,fileprefix,rngseed=None,circlepause=40):\n",
    "    circlesize = int(resolution / 15)\n",
    "    circlewidth = int(resolution/80)\n",
    "    if rngseed:\n",
    "        np.random.seed(rngseed)\n",
    "    ratios = np.linspace(0,2.0,num=nframes,endpoint=False)\n",
    "\n",
    "    times = get_arrival_times(rho)\n",
    "    seeds = sample_points(len(times))\n",
    "    arrived = prune_arrivals(times, seeds) # pruning may be slow if rho is very large.\n",
    "    print(f'{len(arrived)} out of {len(times)} seeds germinated.')\n",
    "    times = times[arrived]\n",
    "    seeds = seeds[arrived]\n",
    "\n",
    "    stronglaw = ( (2*np.log(rho) + 4*np.log(np.log(rho))) / (np.pi*rho) )**(1/3)\n",
    "\n",
    "    print(\"First, we generate the final tessellation (which might take a moment)...\")\n",
    "    I, cov_times = assign_cells_v2(seeds, times, resolution, T = 1.5*stronglaw)\n",
    "    print(\"Cells created, now we will colour them.\")\n",
    "    supG = get_adjacency(I)\n",
    "    print(supG)\n",
    "    colours = colour_graph(supG)\n",
    "    print(f'We have a {max(colours.values())+1}-colouring of the cells.')\n",
    "\n",
    "    print(\"Now we can start to generate frames.\")\n",
    "    c = colorspace.hcl_palettes().get_palette(name=\"Emrld\")\n",
    "    hex_colours = c(max(colours.values())+1)\n",
    "    rgb_colours = [ImageColor.getcolor(col,\"RGB\") for col in hex_colours]\n",
    "    \n",
    "    final_frame = np.full((resolution, resolution, 3), 300, dtype=np.uint8)\n",
    "    for x in range(resolution):\n",
    "        for y in range(resolution):\n",
    "            final_frame[x,y,:] = rgb_colours[colours[I[x,y]]]\n",
    "    current_frame = np.copy(final_frame)\n",
    "    \n",
    "    prev_uncovered = np.full((resolution,resolution),False)\n",
    "    \n",
    "    progress = trange(len(ratios),leave=False)\n",
    "    for i in progress:\n",
    "        t = ratios[i]\n",
    "        current_time = t*stronglaw\n",
    "        progress.set_description(f'Working on t={t:.4f}')\n",
    "        current_frame = np.copy(final_frame)\n",
    "        uncovered = (cov_times > current_time)\n",
    "        for channel in range(3):\n",
    "            current_frame[:,:,channel][uncovered] = 255\n",
    "        if not (True in uncovered): # This condition is met if all points are covered.\n",
    "            print(\"We've found the first covered frame, so we're nearly done!\")\n",
    "            prev_uncovered = cov_times > (ratios[i-1]*stronglaw)\n",
    "            # image still holds the previous frame\n",
    "            draw = ImageDraw.Draw(image)\n",
    "            for x in range(resolution):\n",
    "                for y in range(resolution):\n",
    "                    if prev_uncovered[x,y]:\n",
    "                        if x >= 0.1*resolution and x <= 0.9*resolution and y >= 0.1*resolution and y <= 0.9*resolution:\n",
    "                            print(\"!!!!!!!!!!!!!!!!!!!!!!!!!\")\n",
    "                            print(\"The last covered point was in the interior! This is pretty rare, you're lucky to see it!\")\n",
    "                            print(\"!!!!!!!!!!!!!!!!!!!!!!!!!\")\n",
    "                        draw.ellipse((y-circlesize,x-circlesize,y+circlesize,x+circlesize),outline=(255,0,0),width=circlewidth)\n",
    "            for s in range(circlepause):\n",
    "                image.save(fileprefix+str(ratios[i-1])+'-'+str(s)+'.png')\n",
    "            image = Image.fromarray(final_frame)\n",
    "            for j in range(i,min(len(ratios),i+circlepause)):\n",
    "                image.save(fileprefix+str(ratios[j])+'.png') # the remaining frames all look the same.\n",
    "            break\n",
    "        else:\n",
    "            # The frame is uncovered, so draw it and move on.\n",
    "            image = Image.fromarray(current_frame)\n",
    "            image.save(fileprefix+str(t)+'.png')\n",
    "            prev_uncovered = np.copy(uncovered)\n",
    "    \n",
    "    print(\"Done! Go and find your frames in the frames/ folder\")\n",
    "    return"
   ]
  },
  {
   "cell_type": "code",
   "execution_count": 159,
   "id": "b08dccef-9356-4c95-bd02-f4f3c2c6872b",
   "metadata": {},
   "outputs": [],
   "source": [
    "# for SEED in range(16,101):\n",
    "#     print(f'Making video number {SEED}')\n",
    "#     produce_video_frames(100000000,1080,600,f'frames/video{SEED}-',rngseed=SEED)\n",
    "#     print(f'Finished making video number {SEED}\\n')"
   ]
  },
  {
   "cell_type": "markdown",
   "id": "12ef98ba-3b07-40a3-adb9-2d19ee1c6880",
   "metadata": {},
   "source": [
    "## Step-by-step:"
   ]
  },
  {
   "cell_type": "code",
   "execution_count": 188,
   "id": "28d03c97-2efc-4f7d-b105-24fd135f22c9",
   "metadata": {},
   "outputs": [
    {
     "name": "stdout",
     "output_type": "stream",
     "text": [
      "382 out of 9863 seeds germinated.\n"
     ]
    }
   ],
   "source": [
    "# fileprefix = \"frames/jm-\"\n",
    "rho = 10000\n",
    "# resolution = 1080\n",
    "# nframes = 500\n",
    "# circlepause = 200 # How many frames to pause for with the circle around the last covered point\n",
    "circlesize = int(resolution / 15)\n",
    "circlewidth = int(resolution/80)\n",
    "\n",
    "# ratios = np.linspace(0,2.0,num=nframes,endpoint=False)\n",
    "\n",
    "times = get_arrival_times(rho)\n",
    "seeds = sample_points(len(times))\n",
    "arrived = prune_arrivals(times, seeds) # pruning may be slow if rho is very large.\n",
    "print(f'{len(arrived)} out of {len(times)} seeds germinated.')\n",
    "times = times[arrived]\n",
    "seeds = seeds[arrived]\n",
    "\n",
    "stronglaw = ( (2*np.log(rho) + 4*np.log(np.log(rho))) / (np.pi*rho) )**(1/3)"
   ]
  },
  {
   "cell_type": "code",
   "execution_count": 189,
   "id": "169c9dd5-1002-45d0-8f88-0385b8956651",
   "metadata": {},
   "outputs": [],
   "source": [
    "fileprefix = \"frames/jm-\"\n",
    "resolution = 1080\n",
    "nframes = 1200\n",
    "circlepause = 200 # How many frames to pause for with the circle around the last covered point\n",
    "circlesize = int(resolution / 15)\n",
    "circlewidth = int(resolution/80)\n",
    "\n",
    "ratios = np.linspace(0,1.5,num=nframes,endpoint=False)\n",
    "\n",
    "stronglaw = ( (2*np.log(rho) + 4*np.log(np.log(rho))) / (np.pi*rho) )**(1/3)"
   ]
  },
  {
   "cell_type": "code",
   "execution_count": 190,
   "id": "19998cc0-01f5-47b2-bc45-08fa293fb0a3",
   "metadata": {},
   "outputs": [
    {
     "name": "stdout",
     "output_type": "stream",
     "text": [
      "First, we generate the final tessellation (which might take a moment)...\n"
     ]
    },
    {
     "name": "stderr",
     "output_type": "stream",
     "text": [
      "                                                                                \r"
     ]
    },
    {
     "name": "stdout",
     "output_type": "stream",
     "text": [
      "Cells created, now we will compute the adjacency graph.\n",
      "Graph with 382 nodes and 1056 edges\n"
     ]
    }
   ],
   "source": [
    "print(\"First, we generate the final tessellation (which might take a moment)...\")\n",
    "I, cov_times = assign_cells_v2(seeds, times, resolution, T = 2.0*stronglaw)\n",
    "print(\"Cells created, now we will compute the adjacency graph.\")\n",
    "supG = get_adjacency(I)\n",
    "print(supG) # This graph is planar, we should be able to 4-colour it. However, I don't think there's an efficient algorithm that guarantees a 4-colouring."
   ]
  },
  {
   "cell_type": "code",
   "execution_count": 191,
   "id": "d84f5c93-93f9-47ed-9361-cd50efaea2b5",
   "metadata": {},
   "outputs": [],
   "source": [
    "### Save the adjacency graph, go and colour it in another notebook with Sagemath, then load the colouring here.\n",
    "networkx.write_adjlist(supG, 'supG.adjlist')"
   ]
  },
  {
   "cell_type": "markdown",
   "id": "411285ca-e892-49f7-95d3-36f5e83ca7f4",
   "metadata": {},
   "source": [
    "### WAIT - remember to run the other notebook to colour the graph"
   ]
  },
  {
   "cell_type": "code",
   "execution_count": 192,
   "id": "846cde07-a0b6-422e-9699-b159324d7853",
   "metadata": {},
   "outputs": [],
   "source": [
    "def keystoint(x):\n",
    "    return {int(k):v for k, v in x} # Convert keys from str to int.\n",
    "\n",
    "with open('colouring.json','r') as colfile:\n",
    "    colours = json.load(colfile,object_pairs_hook=keystoint)"
   ]
  },
  {
   "cell_type": "code",
   "execution_count": 193,
   "id": "fd7aa7fe-0b93-40ab-9ada-7c105e9b8ec2",
   "metadata": {},
   "outputs": [
    {
     "name": "stdout",
     "output_type": "stream",
     "text": [
      "Now we can start to generate frames.\n"
     ]
    },
    {
     "name": "stderr",
     "output_type": "stream",
     "text": [
      "rm: cannot remove 'frames/*': No such file or directory\n",
      "Working on t=1.2612:  84%|███████████████   | 1008/1200 [00:36<00:07, 27.28it/s]"
     ]
    },
    {
     "name": "stdout",
     "output_type": "stream",
     "text": [
      "We've found the first covered frame, so we're nearly done!\n"
     ]
    },
    {
     "name": "stderr",
     "output_type": "stream",
     "text": [
      "                                                                                "
     ]
    },
    {
     "name": "stdout",
     "output_type": "stream",
     "text": [
      "Done! Go and find your frames in the frames/ folder\n"
     ]
    },
    {
     "name": "stderr",
     "output_type": "stream",
     "text": [
      "\r"
     ]
    }
   ],
   "source": [
    "print(\"Now we can start to generate frames.\")\n",
    "# Delete the old frames:\n",
    "os.system('rm frames/jm-*')\n",
    "# c = colorspace.hcl_palettes().get_palette(name=\"Emrld\") # Needs a new colour scheme.\n",
    "# hex_colours = c(max(colours.values())+1)\n",
    "# rgb_colours = [ImageColor.getcolor(col,\"RGB\") for col in hex_colours]\n",
    "rgb_colours = [\n",
    "    (55, 126, 184),\n",
    "    (152, 78, 163),\n",
    "    (255,127,0),\n",
    "    (255,255,51),\n",
    "    (153,153,153)\n",
    "]\n",
    "\n",
    "final_frame = np.full((resolution, resolution, 3), 300, dtype=np.uint8)\n",
    "for x in range(resolution):\n",
    "    for y in range(resolution):\n",
    "        final_frame[x,y,:] = rgb_colours[colours[I[x,y]]]\n",
    "current_frame = np.copy(final_frame)\n",
    "\n",
    "prev_uncovered = np.full((resolution,resolution),False)\n",
    "\n",
    "progress = trange(len(ratios),leave=False)\n",
    "for i in progress:\n",
    "    t = ratios[i]\n",
    "    current_time = t*stronglaw\n",
    "    progress.set_description(f'Working on t={t:.4f}')\n",
    "    current_frame = np.copy(final_frame)\n",
    "    uncovered = (cov_times > current_time)\n",
    "    for channel in range(3):\n",
    "        current_frame[:,:,channel][uncovered] = 255\n",
    "    if not (True in uncovered): # This condition is met if all points are covered.\n",
    "        print(\"We've found the first covered frame, so we're nearly done!\")\n",
    "        prev_uncovered = cov_times > (ratios[i-1]*stronglaw)\n",
    "        # image still holds the previous frame\n",
    "        draw = ImageDraw.Draw(image)\n",
    "        for x in range(resolution):\n",
    "            for y in range(resolution):\n",
    "                if prev_uncovered[x,y]:\n",
    "                    draw.ellipse((y-circlesize,x-circlesize,y+circlesize,x+circlesize),outline=(255,0,0),width=circlewidth)\n",
    "        for s in range(circlepause):\n",
    "            image.save(f'{fileprefix}{ratios[i-1]:.5f}'+'-'+str(s)+'.png')\n",
    "        image = Image.fromarray(final_frame)\n",
    "        for j in range(i,min(len(ratios),i+circlepause)):\n",
    "            image.save(f'{fileprefix}{ratios[j]:.5f}.png') # the remaining frames all look the same.\n",
    "        break\n",
    "    else:\n",
    "        # The frame is uncovered, so draw it and move on.\n",
    "        image = Image.fromarray(current_frame)\n",
    "        image.save(f'{fileprefix}{t:.5f}.png')\n",
    "        prev_uncovered = np.copy(uncovered)\n",
    "\n",
    "print(\"Done! Go and find your frames in the frames/ folder\")"
   ]
  },
  {
   "cell_type": "markdown",
   "id": "f0c8856a-eb75-4c54-a73e-9974e71bc65f",
   "metadata": {},
   "source": [
    "Then go and stitch your video together with `ffmpeg -framerate 25 -pattern_type glob -i 'frames/jm-*.png' -c:v libx264 JM-VIDEO.mp4`"
   ]
  },
  {
   "cell_type": "markdown",
   "id": "17d81e60-3ae2-43b0-9f1e-dd77ca0de0e1",
   "metadata": {},
   "source": [
    "Note: the boundary effects are very strong. A quick estimate using (2.13) of the paper suggests that there is around a 2.5 percent chance that the last covered region will be in an area unaffected by the boundary.\n",
    "\n",
    "Most of time time the last covered region seems to actually touch the boundary."
   ]
  }
 ],
 "metadata": {
  "kernelspec": {
   "display_name": "Python 3 (ipykernel)",
   "language": "python",
   "name": "python3"
  },
  "language_info": {
   "codemirror_mode": {
    "name": "ipython",
    "version": 3
   },
   "file_extension": ".py",
   "mimetype": "text/x-python",
   "name": "python",
   "nbconvert_exporter": "python",
   "pygments_lexer": "ipython3",
   "version": "3.11.2"
  }
 },
 "nbformat": 4,
 "nbformat_minor": 5
}
