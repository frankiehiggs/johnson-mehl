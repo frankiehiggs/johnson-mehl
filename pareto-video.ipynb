{
 "cells": [
  {
   "cell_type": "markdown",
   "id": "8663de9b-db27-4df3-94ef-0290f72296b0",
   "metadata": {},
   "source": [
    "Makes a little video of what happens when $a$ increases in the Pareto distribution of radii\n",
    "$$\n",
    "p_Y(x) = \\frac{a m^a}{x^{a+1}}\n",
    "$$\n",
    "for $x \\geq 1$, $p_Y(x) = 0$ for $x < 1$.\n",
    "\n",
    "If $a > 2$ this has second moment\n",
    "$$\n",
    "\\mathbb{E}[Y^2] = \\frac{a m^a}{a-2}.\n",
    "$$"
   ]
  },
  {
   "cell_type": "code",
   "execution_count": 1,
   "id": "c58f482e-72b6-4f3d-8173-4ebe5af8b3e6",
   "metadata": {},
   "outputs": [],
   "source": [
    "import numpy as np\n",
    "from scipy.spatial import KDTree\n",
    "from tqdm import tqdm\n",
    "import networkx\n",
    "import colorspace\n",
    "from PIL import Image, ImageColor\n",
    "import sys\n",
    "\n",
    "from unconstrained import sample_points\n",
    "from draw_jm import get_adjacency, colour_graph, get_ball_pixels"
   ]
  },
  {
   "cell_type": "code",
   "execution_count": 2,
   "id": "c3b8949a-fcc2-4132-8ea8-d6dd37521679",
   "metadata": {},
   "outputs": [],
   "source": [
    "def assign_cells_random_radii(seeds, rates, img_size, T=1.0):\n",
    "    min_cov_times = np.full((img_size,img_size),np.inf) # running minimum coverage times\n",
    "    assignments = np.empty((img_size,img_size),dtype=int)\n",
    "    for i in range(len(rates)):\n",
    "        xi = seeds[i]\n",
    "        gi = rates[i]\n",
    "        gi2 = gi*gi\n",
    "        indices, d2s = get_ball_pixels(xi, T*gi, img_size)\n",
    "        for k, ij_pair in enumerate(indices):\n",
    "            cov_time2 = d2s[k] / gi2\n",
    "            if cov_time2 < min_cov_times[ij_pair]:\n",
    "                assignments[ij_pair] = i\n",
    "                min_cov_times[ij_pair] = cov_time2\n",
    "    return assignments"
   ]
  },
  {
   "cell_type": "code",
   "execution_count": 3,
   "id": "927b321b-6d90-4282-833b-0b4da5c5f820",
   "metadata": {},
   "outputs": [],
   "source": [
    "def pareto_frame(seeds, a, m, fileprefix):\n",
    "    rates = m*(np.random.pareto(a,size=seeds.shape[0])+1)\n",
    "    if a <= 2:\n",
    "        second_moment = 1\n",
    "    else:\n",
    "        second_moment = a*m**a / (a - 2)\n",
    "    max_time = 2*np.sqrt( np.log(n) / (np.pi * n * second_moment) )\n",
    "    I = assign_cells_random_radii(seeds, rates, resolution, T = max_time)\n",
    "\n",
    "    cell_structure = get_adjacency(I)\n",
    "    print(cell_structure)\n",
    "\n",
    "    colours = colour_graph(cell_structure)\n",
    "    print(f'We have a {max(colours.values())+1}-colouring of the cells.')\n",
    "\n",
    "    c = colorspace.hcl_palettes().get_palette(name=\"SunsetDark\")\n",
    "    hex_colours = c(max(colours.values())+1)\n",
    "    rgb_colours = [ImageColor.getcolor(col,\"RGB\") for col in hex_colours]\n",
    "\n",
    "    data = np.empty((resolution, resolution, 3), dtype=np.uint8)\n",
    "    N = I.shape[0]\n",
    "    for i in range(N):\n",
    "        for j in range(N):\n",
    "            data[i,j,:] = rgb_colours[colours[I[i,j]]]\n",
    "\n",
    "    image = Image.fromarray(data)\n",
    "    image.save(fileprefix+str(a)+'.png')"
   ]
  },
  {
   "cell_type": "code",
   "execution_count": null,
   "id": "b2d3a5c8-c805-4876-affb-74e3cecbfdbe",
   "metadata": {
    "jupyter": {
     "source_hidden": true
    }
   },
   "outputs": [],
   "source": [
    "fileprefix = \"frames/pareto-\"\n",
    "n = 100\n",
    "resolution = 800\n",
    "\n",
    "RANDOMSEED = 20240416\n",
    "\n",
    "np.random.seed(RANDOMSEED)\n",
    "\n",
    "seeds = sample_points(n)\n",
    "\n",
    "for a in tqdm(np.linspace(1,4,num=10)):\n",
    "    print(a)\n",
    "    if a>2:\n",
    "        m = ((a-2)/a)**(1/a)\n",
    "    else:\n",
    "        m = 1.0\n",
    "    np.random.seed(RANDOMSEED) # reset the seed so the radii are close to the previous radii\n",
    "    pareto_frame(seeds, a,m, fileprefix)\n"
   ]
  },
  {
   "cell_type": "markdown",
   "id": "a3d46819-f64d-4636-9f35-f081ad5a7370",
   "metadata": {},
   "source": [
    "The colours will \"flicker\" in the video because the adjacency graph changes when the radii change. So we create a supremum of the adjacency graphs, in which two vertices are connected if the corresponding cells are adjacent in _any_ diagram. Then we can colour according to this for each diagram.\n",
    "\n",
    "That graph isn't planar any more, so the number of colours may grow fast.\n",
    "\n",
    "A disadvantage of this method is there's a very long wait before any frames appear. Or maybe that's an advantage: sometimes I spend far too long checking \"how are my frames coming along?\"\n",
    "\n",
    "---\n",
    "\n",
    "One interesting consequence of the phase transition around $a=2$: it's pretty noticeable that the assignment runs much faster when $a > 2$ than for $a \\leq 2$."
   ]
  },
  {
   "cell_type": "code",
   "execution_count": null,
   "id": "89d1afe8-3813-4614-9cdb-08e84a8e1da3",
   "metadata": {},
   "outputs": [
    {
     "name": "stderr",
     "output_type": "stream",
     "text": [
      "Working on a = 1.3200:  67%|████████████████████████████▊              | 67/100 [08:51<08:26, 15.33s/it]"
     ]
    }
   ],
   "source": [
    "fileprefix = \"frames/pareto-\"\n",
    "n = 100\n",
    "resolution = 800\n",
    "nframes = 100\n",
    "exponents = np.linspace(4,0,num=nframes,endpoint=False)\n",
    "RANDOMSEED = 20240417\n",
    "\n",
    "np.random.seed(RANDOMSEED)\n",
    "\n",
    "seeds = sample_points(n)\n",
    "\n",
    "assignments = []\n",
    "progress = tqdm(exponents)\n",
    "for a in progress:\n",
    "    progress.set_description(f'Working on a={a:.4f}')\n",
    "    if a>2:\n",
    "        m = ((a-2)/a)**(1/a)\n",
    "    else:\n",
    "        m = 1.0\n",
    "    np.random.seed(RANDOMSEED)\n",
    "    rates = m*(np.random.pareto(a,size=seeds.shape[0])+1)\n",
    "    max_time = 2*np.sqrt( np.log(n) / (np.pi * n) )    \n",
    "    assignments.append(assign_cells_random_radii(seeds, rates, resolution, T = max_time))\n",
    "\n",
    "supG = get_adjacency(assignments[0])\n",
    "for i in range(1,len(assignments)):\n",
    "    supG.update(get_adjacency(assignments[i]))\n",
    "print(supG)\n",
    "colours = colour_graph(supG)\n",
    "print(f'We have a {max(colours.values())+1}-colouring of the cells.')\n",
    "# It's all deterministic after this point.\n",
    "c = colorspace.hcl_palettes().get_palette(name=\"SunsetDark\")\n",
    "hex_colours = c(max(colours.values())+1)\n",
    "rgb_colours = [ImageColor.getcolor(col,\"RGB\") for col in hex_colours]\n",
    "print(\"Drawing the frames.\")\n",
    "for i, a in tqdm(enumerate(exponents)):\n",
    "    I = assignments[i]\n",
    "    data = np.empty((resolution, resolution, 3), dtype=np.uint8)\n",
    "    for x in range(resolution):\n",
    "        for y in range(resolution):\n",
    "            data[x,y,:] = rgb_colours[colours[I[x,y]]]\n",
    "    image = Image.fromarray(data)\n",
    "    image.save(fileprefix+str(a)+'.png')"
   ]
  }
 ],
 "metadata": {
  "kernelspec": {
   "display_name": "Python 3 (ipykernel)",
   "language": "python",
   "name": "python3"
  },
  "language_info": {
   "codemirror_mode": {
    "name": "ipython",
    "version": 3
   },
   "file_extension": ".py",
   "mimetype": "text/x-python",
   "name": "python",
   "nbconvert_exporter": "python",
   "pygments_lexer": "ipython3",
   "version": "3.11.2"
  }
 },
 "nbformat": 4,
 "nbformat_minor": 5
}
