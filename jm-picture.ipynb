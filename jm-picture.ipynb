{
 "cells": [
  {
   "cell_type": "markdown",
   "id": "519357f0-6803-4577-987f-0119f0b9c551",
   "metadata": {},
   "source": [
    "# Johnson-Mehl tessellation picture\n",
    "\n",
    "I'd like to draw a picture of the Johnson-Mehl tessellation and a Voronoi tessellation so the viewer can compare them.\n",
    "\n",
    "One interesting fact which I hadn't realised until trying to draw these pictures: the boundaries between cells in the JM tessellation _aren't straight_.\n",
    "\n",
    "There are algorithms and useful data structures for Voronoi tessellations in the [book by Okabe, Boots, Sugihara and Chiu](https://onlinelibrary.wiley.com/doi/book/10.1002/9780470317013). I've used the algorithm described by Moulinec in [\"A simple and fast algorithm for computing discrete Voronoi, Johnson-Mehl or Laguerre diagrams of points\"](https://www.sciencedirect.com/science/article/pii/S0965997822000618). Mainly because it's simple, although being fast is also an advantage."
   ]
  },
  {
   "cell_type": "markdown",
   "id": "457b6812-80ae-4f5c-9fc1-7fd64fde6be8",
   "metadata": {},
   "source": [
    "## Outline\n",
    "1. Sample the arrival times and locations, and prune them.\n",
    "2. Assign each pixel in an image to its appropriate cell, based on which Johnson-Mehl seed grows to cover it first.\n",
    "3. Compute adjacency: I want to know which cells border each other so I can colour them appropriately.\n",
    "4. Colour the cells nicely. It's a planar map, so a four-colouring exists, but I think I'll be a bit simpler and use a greedy colouring, so no two neighbouring cells share a colour but maybe the number of colours isn't completely optimal."
   ]
  },
  {
   "cell_type": "code",
   "execution_count": 32,
   "id": "788447b4-e5ec-4155-9239-9cdefe3c4b5f",
   "metadata": {},
   "outputs": [],
   "source": [
    "import numpy as np\n",
    "from scipy.spatial import KDTree\n",
    "from unconstrained import sample_points, prune_arrivals"
   ]
  },
  {
   "cell_type": "markdown",
   "id": "e94e3322-73f3-4f42-87e1-0a20057a43f6",
   "metadata": {},
   "source": [
    "### Sampling arrival times and pruning"
   ]
  },
  {
   "cell_type": "code",
   "execution_count": 31,
   "id": "d13d437d",
   "metadata": {},
   "outputs": [],
   "source": [
    "def get_arrival_times( rho, max_time=1.0, R=0 ):\n",
    "    N = np.random.poisson(lam=rho*max_time*(1+2*R)**2)\n",
    "    return np.sort(np.random.uniform(low=0.0, high=max_time, size=N))\n",
    "# Needs redefining because of my foolishly using a global variable (rng)\n",
    "# to define the version of this function in unconstrained.py."
   ]
  },
  {
   "cell_type": "code",
   "execution_count": 30,
   "id": "7b970c8c-6756-458a-b049-dd7a28c117e6",
   "metadata": {},
   "outputs": [
    {
     "name": "stdout",
     "output_type": "stream",
     "text": [
      "1894 out of 99891 seeds germinated.\n"
     ]
    }
   ],
   "source": [
    "rho = 100000\n",
    "\n",
    "times = get_arrival_times(rho)\n",
    "seeds = sample_points(len(times))\n",
    "arrived = prune_arrivals(times, seeds)\n",
    "print(f'{len(arrived)} out of {len(times)} seeds germinated.')\n",
    "times = times[arrived]\n",
    "seeds = seeds[arrived]"
   ]
  },
  {
   "cell_type": "markdown",
   "id": "b74d9b8a-569c-4a1e-b618-dd9ffeaa39b1",
   "metadata": {},
   "source": [
    "### Assigning pixels to their cells\n",
    "\n",
    "This is the bit using Moulinec's method. Moulinec has two separate steps: first assigning the pixels which are covered by time $T$, then the pixels which were not covered by time $T$. He chooses $T$ to optimise the speed of the algorithm. We can simplify the algorithm by choosing $T$ to be the coverage time, then there is no second step.\n",
    "\n",
    "---\n",
    "\n",
    "The algorithm works as follows: we start with an array $\\mathcal{D}$ of \"running minimum coverage times\" and an array $\\mathcal{I}$ of assignments, both the same shape as the output image. We intialise $\\mathcal{D}$ to be full of $\\infty$. We order the seeds $x_1, \\dots, x_N$ with corresponding arrival times $t_1, \\dots, t_N$.\n",
    "\n",
    "Then for each $i = 1, \\dots, N$ in turn: for every pixel $y$ in the ball centred at $x_i$ of radius $T-t_i$, this pixel was first reached by seed $i$ at time $\\| x_i - y \\| + t_i$. If $\\| x_i - y \\| + t_i < \\mathcal{D}(y)$, then we set $\\mathcal{I}(y) = i$ (overwriting its previous value if it had one) and set $\\mathcal{D}(y) = \\| x_i - y \\| + t_i$.\n",
    "\n",
    "Once we have done this for all $N$ seeds, every pixel is correctly assigned."
   ]
  },
  {
   "cell_type": "code",
   "execution_count": null,
   "id": "8a425b51-ac10-4d7c-9978-74548568f430",
   "metadata": {},
   "outputs": [],
   "source": []
  },
  {
   "cell_type": "markdown",
   "id": "6114f6a4-6e2b-4746-b520-afe052ba387f",
   "metadata": {},
   "source": [
    "### Computing adjacency\n",
    "\n",
    "The method is easy: for each pixel check if its cell differs from the one below and the one to the right. If they differ, then record the pair of cell IDs in the adjacency matrix. This might be a little slow, but I'm not worried about fast performance; I only plan to use this code to make pretty diagrams, so won't have more than a few hundred cells (probably fewer). As long as the resolution is high enough this will, with high probability, give us the correct adjacency structure."
   ]
  },
  {
   "cell_type": "code",
   "execution_count": null,
   "id": "f9b81004-1077-46a5-a7e9-b4729704274f",
   "metadata": {},
   "outputs": [],
   "source": []
  }
 ],
 "metadata": {
  "kernelspec": {
   "display_name": "Python 3 (ipykernel)",
   "language": "python",
   "name": "python3"
  },
  "language_info": {
   "codemirror_mode": {
    "name": "ipython",
    "version": 3
   },
   "file_extension": ".py",
   "mimetype": "text/x-python",
   "name": "python",
   "nbconvert_exporter": "python",
   "pygments_lexer": "ipython3",
   "version": "3.11.2"
  }
 },
 "nbformat": 4,
 "nbformat_minor": 5
}
