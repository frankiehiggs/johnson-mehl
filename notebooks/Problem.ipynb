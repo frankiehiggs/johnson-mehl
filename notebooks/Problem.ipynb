{
 "cells": [
  {
   "cell_type": "markdown",
   "id": "367fb7db-7ebc-45e4-a748-58588f9b1eda",
   "metadata": {},
   "source": [
    "# Minimal example of \"big arrays in loop\" problem\n",
    "\n",
    "I found that there was a weird long pause after completing the last run-through of a loop when the loops created big numpy arrays, before the line after the loop was executed.\n",
    "Let's try to replicate the causes.\n",
    "\n",
    "Later note: I never seemed able to replicate the problem."
   ]
  },
  {
   "cell_type": "code",
   "execution_count": 1,
   "id": "d7f38854-60df-4842-a7d6-645b1fdb4750",
   "metadata": {},
   "outputs": [],
   "source": [
    "import numpy as np\n",
    "from time import time, sleep\n",
    "import sortednp\n",
    "from tqdm import tqdm, trange\n",
    "\n",
    "from unconstrained import prune_arrivals, sample_points"
   ]
  },
  {
   "cell_type": "code",
   "execution_count": 3,
   "id": "645d723d-546a-4614-954d-3261ede2a30a",
   "metadata": {},
   "outputs": [],
   "source": [
    "# def prune_arrivals( times, locations ):\n",
    "#     N = len(times)\n",
    "#     indices = [0]\n",
    "#     for i in range(1,N):\n",
    "#         covered = False\n",
    "#         x = locations[i]\n",
    "#         t = times[i]\n",
    "#         for j in indices:\n",
    "#             vec = locations[j] - x\n",
    "#             radius = t - times[j]\n",
    "#             d2 = np.dot(vec,vec)\n",
    "#             if d2 < radius*radius:\n",
    "#                 covered=True\n",
    "#                 break\n",
    "#         if not covered:\n",
    "#             indices.append(i)\n",
    "#     return indices"
   ]
  },
  {
   "cell_type": "code",
   "execution_count": 4,
   "id": "6f3226ca-b695-491d-ae47-fc7ca1c9b930",
   "metadata": {},
   "outputs": [
    {
     "name": "stdout",
     "output_type": "stream",
     "text": [
      "Step 0 completed at time 1.371\n",
      "Step 1 completed at time 2.436\n",
      "Step 2 completed at time 3.652\n",
      "Step 3 completed at time 4.552\n",
      "Step 4 completed at time 5.905\n",
      "Step 5 completed at time 6.733\n",
      "Step 6 completed at time 7.889\n",
      "Step 7 completed at time 9.087\n",
      "Step 8 completed at time 10.184\n",
      "Step 9 completed at time 11.150\n",
      "Step 10 completed at time 11.924\n",
      "Loop exited at time 11.924\n"
     ]
    }
   ],
   "source": [
    "# N = 1000000\n",
    "# n_loops = 11\n",
    "\n",
    "# start_time = time()\n",
    "# for i in range(n_loops):\n",
    "#     times = np.random.random(size=N)\n",
    "#     seeds = np.random.random(size=(N,2))\n",
    "#     arrived = prune_arrivals(times, seeds)\n",
    "#     print(f'Step {i} completed at time {time()-start_time:.3f}')\n",
    "# print(f'Loop exited at time {time()-start_time:.3f}')"
   ]
  },
  {
   "cell_type": "code",
   "execution_count": 15,
   "id": "1bba3e4a-8966-422b-9909-579b99fe7e61",
   "metadata": {},
   "outputs": [
    {
     "name": "stdout",
     "output_type": "stream",
     "text": [
      "Step 0 completed at time 2.085\n",
      "Step 1 completed at time 4.101\n",
      "Step 2 completed at time 6.196\n",
      "Step 3 completed at time 8.214\n",
      "Step 4 completed at time 10.317\n",
      "Loop exited at time 10.417\n"
     ]
    }
   ],
   "source": [
    "batch_rho = 1000000\n",
    "batches = 5\n",
    "\n",
    "start_time = time()\n",
    "\n",
    "times_processes = []\n",
    "seeds_processes = []\n",
    "rho = batch_rho * batches\n",
    "for i in range(batches):\n",
    "    times = get_arrival_times(batch_rho)\n",
    "    seeds = sample_points(len(times))\n",
    "    arrived = prune_arrivals(times, seeds) # pruning may be slow if rho is very large.\n",
    "    times_processes.append(times[arrived])\n",
    "    seeds_processes.append(seeds[arrived])\n",
    "    print(f'Step {i} completed at time {time()-start_time:.3f}')\n",
    "sleep(0.1)\n",
    "print(f'Loop exited at time {time()-start_time:.3f}')"
   ]
  },
  {
   "cell_type": "markdown",
   "id": "306b9b0f-cb24-4ad9-918b-198dc19d86d5",
   "metadata": {},
   "source": [
    "Hm. I don't seem to be able to replicate the bug using any of my guesses at the cause. Here's the offending bit of code verbatim:\n",
    "```\n",
    "batch_rho = 1.0e6\n",
    "n_batches = 1000\n",
    "rho = batch_rho * n_batches\n",
    "max_time = 1.5*( (2*np.log(rho) + 4*np.log(np.log(rho))) / (np.pi*rho) )**(1/3)\n",
    "display(f'Running until max time {max_time:.5f}.')\n",
    "times = get_arrival_times(batch_rho,max_time=max_time)\n",
    "seeds = sample_points(len(times))\n",
    "arrived = prune_arrivals(times, seeds)\n",
    "times = times[arrived]\n",
    "seeds = seeds[arrived]\n",
    "progress = trange(n_batches-1)\n",
    "for i in progress:\n",
    "    progress.set_description(\"Finding new arrivals\")\n",
    "    new_times = get_arrival_times(batch_rho,max_time=max_time)\n",
    "    new_seeds = sample_points(len(new_times))\n",
    "    progress.set_description(\"Pruning new arrivals\")\n",
    "    arrived = prune_arrivals(new_times, new_seeds)\n",
    "    new_times = new_times[arrived]\n",
    "    new_seeds = new_seeds[arrived]\n",
    "    progress.set_description(\"Merging all arrivals\")\n",
    "    times, seeds = merge_jm_arrivals(times,seeds,new_times,new_seeds) # Is it faster to just stick all the arrays together and sort them at the end? (Since we don't prune in the middle any more.)\n",
    "    progress.set_description(\"Merged. Weird pause.\")\n",
    "    # Comment\n",
    "display(\"Arrivals all generated, now for the last pruning...\") # There's a weird pause after the loop but before this message is printed. Not sure why.\n",
    "arrived = prune_arrivals(times,seeds)\n",
    "times = times[arrived]\n",
    "seeds = seeds[arrived]\n",
    "print(f'We have a total of {len(seeds)} arrivals with rate {rho} (that\\'s {rho:.0e}).')\n",
    "```"
   ]
  },
  {
   "cell_type": "code",
   "execution_count": 2,
   "id": "d49ef2cd-0c35-42b6-8d7a-b3524a2db39f",
   "metadata": {},
   "outputs": [],
   "source": [
    "def merge_jm_arrivals(t1,l1,t2,l2):\n",
    "    \"\"\"\n",
    "    Given two sets of arrival times and locations from a time-homogeneous PPP,\n",
    "    merges them into a single pair.\n",
    "\n",
    "    The arguments are all numpy arrays, and both t1 and t2 should be sort\n",
    "    \"\"\"\n",
    "    totallen = len(t1)+len(t2)\n",
    "    outtimes = np.empty(totallen)\n",
    "    outseeds = np.empty((totallen,2))\n",
    "    i1 = 0\n",
    "    i2 = 0\n",
    "    while i1 < len(t1) and i2 < len(t2):\n",
    "        if t1[i1] < t2[i2]:\n",
    "            outtimes[i1+i2] = t1[i1]\n",
    "            outseeds[i1+i2] = l1[i1]\n",
    "            i1 += 1\n",
    "        else:\n",
    "            outtimes[i1+i2] = t2[i2]\n",
    "            outseeds[i1+i2] = l2[i2]\n",
    "            i2 += 1\n",
    "    if i1 == len(t1):\n",
    "        outtimes[i1+i2:] = t2[i2:]\n",
    "        outseeds[i1+i2:] = l2[i2:]\n",
    "    else:\n",
    "        outtimes[i1+i2:] = t1[i1:]\n",
    "        outseeds[i1+i2:] = l1[i1:]\n",
    "    return outtimes, outseeds\n",
    "\n",
    "def get_arrival_times( rho, max_time=1.0, R=0 ):\n",
    "    rate = rho*(1+2*R)**2\n",
    "    Nmax = int(max_time*rate + 2*np.sqrt(max_time*rate)) # Two standard deviations above the mean\n",
    "    interarrival_times = np.random.exponential(scale=1/rate,size=Nmax)\n",
    "    arrival_times = np.cumsum(interarrival_times)\n",
    "    too_late = np.searchsorted(arrival_times,max_time,side='right') # First index where the arrival time is at least max_time\n",
    "    while too_late == Nmax: # This will be the case if we are unlucky and Nmax points arrived before time max_time. We'll just generate more points.\n",
    "        interarrival_times = np.append(interarrival_times, np.random.exponential(scale=1/rate,size=Nmax))\n",
    "        arrival_times = np.cumsum(interarrival_times)\n",
    "        too_late = np.searchsorted(arrival_times,max_time,side='right') # First index where the arrival time is at least max_time\n",
    "    return arrival_times[:too_late].copy()"
   ]
  },
  {
   "cell_type": "code",
   "execution_count": 5,
   "id": "48fc7545-7df5-405c-9537-692dff414ff2",
   "metadata": {
    "collapsed": true,
    "jupyter": {
     "outputs_hidden": true
    }
   },
   "outputs": [
    {
     "name": "stdout",
     "output_type": "stream",
     "text": [
      "Running until max time 0.02079.\n"
     ]
    },
    {
     "name": "stderr",
     "output_type": "stream",
     "text": [
      "\n",
      "  0%|                                                     | 0/4 [00:00<?, ?it/s]\u001b[A\n",
      "Finding new arrivals:   0%|                               | 0/4 [00:00<?, ?it/s]\u001b[A\n",
      "Pruning new arrivals:   0%|                               | 0/4 [00:00<?, ?it/s]\u001b[A\n",
      "Merging all arrivals:   0%|                               | 0/4 [00:01<?, ?it/s]\u001b[A\n",
      "Merged. Weird pause. Time 3.425:   0%|                    | 0/4 [00:01<?, ?it/s]\u001b[A\n",
      "Merged. Weird pause. Time 3.425:  25%|███         | 1/4 [00:01<00:05,  1.80s/it]\u001b[A\n",
      "Finding new arrivals:  25%|█████▊                 | 1/4 [00:01<00:05,  1.80s/it]\u001b[A\n",
      "Pruning new arrivals:  25%|█████▊                 | 1/4 [00:01<00:05,  1.80s/it]\u001b[A\n"
     ]
    },
    {
     "name": "stdout",
     "output_type": "stream",
     "text": [
      "Merged. Weird pause. Time 3.427\n"
     ]
    },
    {
     "name": "stderr",
     "output_type": "stream",
     "text": [
      "Merging all arrivals:  25%|█████▊                 | 1/4 [00:03<00:05,  1.80s/it]\u001b[A\n",
      "Merged. Weird pause. Time 5.087:  25%|███         | 1/4 [00:03<00:05,  1.80s/it]\u001b[A\n",
      "Merged. Weird pause. Time 5.087:  50%|██████      | 2/4 [00:03<00:03,  1.72s/it]\u001b[A\n",
      "Finding new arrivals:  50%|███████████▌           | 2/4 [00:03<00:03,  1.72s/it]\u001b[A\n",
      "Pruning new arrivals:  50%|███████████▌           | 2/4 [00:03<00:03,  1.72s/it]\u001b[A"
     ]
    },
    {
     "name": "stdout",
     "output_type": "stream",
     "text": [
      "Merged. Weird pause. Time 5.090\n"
     ]
    },
    {
     "name": "stderr",
     "output_type": "stream",
     "text": [
      "\n",
      "Merging all arrivals:  50%|███████████▌           | 2/4 [00:04<00:03,  1.72s/it]\u001b[A\n",
      "Merged. Weird pause. Time 6.929:  50%|██████      | 2/4 [00:05<00:03,  1.72s/it]\u001b[A\n",
      "Merged. Weird pause. Time 6.929:  75%|█████████   | 3/4 [00:05<00:01,  1.78s/it]\u001b[A\n",
      "Finding new arrivals:  75%|█████████████████▎     | 3/4 [00:05<00:01,  1.78s/it]\u001b[A\n",
      "Pruning new arrivals:  75%|█████████████████▎     | 3/4 [00:05<00:01,  1.78s/it]\u001b[A"
     ]
    },
    {
     "name": "stdout",
     "output_type": "stream",
     "text": [
      "Merged. Weird pause. Time 6.931\n"
     ]
    },
    {
     "name": "stderr",
     "output_type": "stream",
     "text": [
      "\n",
      "Merging all arrivals:  75%|█████████████████▎     | 3/4 [00:06<00:01,  1.78s/it]\u001b[A\n",
      "Merged. Weird pause. Time 8.742:  75%|█████████   | 3/4 [00:07<00:01,  1.78s/it]\u001b[A\n",
      "Merged. Weird pause. Time 8.742: 100%|████████████| 4/4 [00:07<00:00,  1.78s/it]\u001b[A\n"
     ]
    },
    {
     "name": "stdout",
     "output_type": "stream",
     "text": [
      "Merged. Weird pause. Time 8.744\n",
      "Arrivals all generated at time 8.746, now for the last pruning...\n",
      "We have a total of 25896 arrivals with rate 5000000.0 (that's 5e+06).\n"
     ]
    }
   ],
   "source": [
    "batch_rho = 1.0e6\n",
    "n_batches = 5\n",
    "\n",
    "start_time = time()\n",
    "rho = batch_rho * n_batches\n",
    "max_time = 1.5*( (2*np.log(rho) + 4*np.log(np.log(rho))) / (np.pi*rho) )**(1/3)\n",
    "print(f'Running until max time {max_time:.5f}.')\n",
    "times = get_arrival_times(batch_rho,max_time=max_time)\n",
    "seeds = sample_points(len(times))\n",
    "arrived = prune_arrivals(times, seeds)\n",
    "times = times[arrived]\n",
    "seeds = seeds[arrived]\n",
    "progress = trange(n_batches-1)\n",
    "for i in progress:\n",
    "    progress.set_description(\"Finding new arrivals\")\n",
    "    new_times = get_arrival_times(batch_rho,max_time=max_time)\n",
    "    new_seeds = sample_points(len(new_times))\n",
    "    progress.set_description(\"Pruning new arrivals\")\n",
    "    arrived = prune_arrivals(new_times, new_seeds)\n",
    "    new_times = new_times[arrived]\n",
    "    new_seeds = new_seeds[arrived]\n",
    "    progress.set_description(\"Merging all arrivals\")\n",
    "    times, seeds = merge_jm_arrivals(times,seeds,new_times,new_seeds) # Is it faster to just stick all the arrays together and sort them at the end? (Since we don't prune in the middle any more.)\n",
    "    progress.set_description(\"Merged. Weird pause.\")\n",
    "    # Comment\n",
    "print(f'Arrivals all generated at time {time()-start_time:.3f}, now for the last pruning...') # There's a weird pause after the loop but before this message is printed. Not sure why.\n",
    "arrived = prune_arrivals(times,seeds)\n",
    "times = times[arrived]\n",
    "seeds = seeds[arrived]\n",
    "print(f'We have a total of {len(seeds)} arrivals with rate {rho} (that\\'s {rho:.0e}).')"
   ]
  },
  {
   "cell_type": "code",
   "execution_count": 24,
   "id": "7ac9f2b9-7d36-42dc-89ad-1dd15b4887a0",
   "metadata": {},
   "outputs": [
    {
     "name": "stderr",
     "output_type": "stream",
     "text": [
      "  End of step: 100%|██████████████████████████████| 3/3 [00:30<00:00, 10.00s/it]\n"
     ]
    },
    {
     "name": "stdout",
     "output_type": "stream",
     "text": [
      "Thing after\n",
      "Final thing\n"
     ]
    }
   ],
   "source": [
    "progress = trange(3)\n",
    "a = 0\n",
    "for i in progress:\n",
    "    progress.set_description(\"Start of step\")\n",
    "    sleep(10)\n",
    "    a += i\n",
    "    progress.set_description(\"  End of step\")\n",
    "print(\"Thing after\")\n",
    "sleep(1)\n",
    "a *= 2\n",
    "print(\"Final thing\")"
   ]
  },
  {
   "cell_type": "markdown",
   "id": "93c40db9-3c3a-4d39-af00-3ce3bafb421d",
   "metadata": {},
   "source": [
    "If `tqdm` is the problem then the above should also have a long pause, but it seems not to."
   ]
  }
 ],
 "metadata": {
  "kernelspec": {
   "display_name": "Python 3 (ipykernel)",
   "language": "python",
   "name": "python3"
  },
  "language_info": {
   "codemirror_mode": {
    "name": "ipython",
    "version": 3
   },
   "file_extension": ".py",
   "mimetype": "text/x-python",
   "name": "python",
   "nbconvert_exporter": "python",
   "pygments_lexer": "ipython3",
   "version": "3.11.2"
  }
 },
 "nbformat": 4,
 "nbformat_minor": 5
}
