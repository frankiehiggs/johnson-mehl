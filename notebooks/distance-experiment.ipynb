{
 "cells": [
  {
   "cell_type": "code",
   "execution_count": null,
   "id": "1347cfa0-7891-41f4-9ab9-b7d69a310b48",
   "metadata": {},
   "outputs": [],
   "source": [
    "import numpy as np\n",
    "from scipy.spatial import KDTree\n",
    "from tqdm import tqdm, trange\n",
    "import sys, os\n",
    "import matplotlib.pyplot as plt\n",
    "%matplotlib inline\n",
    "\n",
    "from IPython.display import clear_output\n",
    "\n",
    "from multiprocessing import Pool\n",
    "\n",
    "from jmutils import *"
   ]
  },
  {
   "cell_type": "markdown",
   "id": "4fbd6d99-d0d9-4f4e-a87c-d3e2127ca09c",
   "metadata": {},
   "source": [
    "## Distance between last covered point and the seed which covers it\n",
    "\n",
    "To test the conjecture about whether one fast-growing ball covers the whole space at the coverage time, we'll measure the average distance between the last pixel to be covered and the seed which covers it (and maybe whether that seed also covers the whole space at the coverage time, which is pretty easy to check).\n",
    "\n",
    "Since we're not drawing a picture, there's no real reason to restrict ourselves to $d=2$ here; we could do it for $d=3$ and even $d \\geq 4$. Moulinec's algorithm still works perfectly well, although computing the points in each ball may be slow.\n",
    "\n",
    "Could I speed things up by just checking the last point _on the boundary_ to be covered?"
   ]
  },
  {
   "cell_type": "code",
   "execution_count": null,
   "id": "c7475095-db9f-4fe3-add3-f7b951a737b1",
   "metadata": {},
   "outputs": [],
   "source": [
    "# Reset the configuration\n",
    "n = 1000000\n",
    "dimension = 3\n",
    "resolution = 100\n",
    "exponents = np.linspace(0.5,3.5,31,endpoint=True)\n",
    "distances = np.zeros_like(exponents)\n",
    "count = 0"
   ]
  },
  {
   "cell_type": "code",
   "execution_count": null,
   "id": "e637e63f-33bd-4be7-96a7-7949d81d350c",
   "metadata": {},
   "outputs": [],
   "source": [
    "# \"Meta-configuration\" not affecting the simulation results.\n",
    "repetitions = 1000\n",
    "PARALLEL = 2"
   ]
  },
  {
   "cell_type": "code",
   "execution_count": null,
   "id": "84ed9f04-4189-4515-9ace-071a9332f94b",
   "metadata": {},
   "outputs": [],
   "source": [
    "# Run some simulations.\n",
    "max_time = 2*( np.log(n) / (np.pi * n) )**(1/dimension)\n",
    "\n",
    "def get_distance(a):\n",
    "    rates = U**(-1/a)\n",
    "    overtaken = get_overtake_times(rates,dists,fastest_index)\n",
    "    assignments, times = assign_cells_random_radii(seeds,rates,overtaken,resolution,max_time)\n",
    "    last = np.unravel_index(np.argmax(times),times.shape)\n",
    "    last_location = np.array( [last[0] / (resolution-1), last[1] / (resolution-1)] )\n",
    "    covered_by = assignments[last]\n",
    "    return np.linalg.norm(last_location - seeds[covered_by])\n",
    "\n",
    "def get_distance_3d(a):\n",
    "    rates = U**(-1/a)\n",
    "    overtaken = get_overtake_times(rates,dists,fastest_index)\n",
    "    assignments, times = assign_cells_random_radii_3d(seeds,rates,overtaken,resolution,max_time)\n",
    "    last = np.unravel_index(np.argmax(times),times.shape)\n",
    "    last_location = np.array( [last[0] / (resolution-1), last[1] / (resolution-1), last[2] / (resolution-1)] )\n",
    "    covered_by = assignments[last]\n",
    "    return np.linalg.norm(last_location - seeds[covered_by])\n",
    "\n",
    "def live_plot(data):\n",
    "    clear_output(wait=True)\n",
    "    fig,ax = plt.subplots()\n",
    "    ax.plot(exponents,data)\n",
    "    ax.set_ylim(0,np.sqrt(dimension))\n",
    "    plt.show()\n",
    "\n",
    "for k in trange(repetitions):\n",
    "    seeds = sample_points(n,d=dimension)\n",
    "    U = np.random.random(size=seeds.shape[0]) # Random heavy-tailed radii\n",
    "    fastest_index = np.argmin(U)\n",
    "    fastest_seed = seeds[fastest_index]\n",
    "    dists = np.linalg.norm(seeds - fastest_seed, axis=1)\n",
    "    if dimension == 2:\n",
    "        with Pool(PARALLEL) as p:\n",
    "            new_distance = p.map(get_distance, exponents)\n",
    "    elif dimension == 3:\n",
    "        with Pool(PARALLEL) as p:\n",
    "            new_distance = p.map(get_distance_3d, exponents)\n",
    "    else:\n",
    "        break\n",
    "    distances += new_distance\n",
    "    count += 1\n",
    "    live_plot(distances/count)"
   ]
  },
  {
   "cell_type": "code",
   "execution_count": null,
   "id": "bab80fff-bd4e-4a93-b9f8-e86cd4e70cf6",
   "metadata": {},
   "outputs": [],
   "source": [
    "fig, ax = plt.subplots()\n",
    "avg_distances = distances / count\n",
    "ax.plot(exponents,avg_distances)\n",
    "ax.set_title(f'n={n}, d={dimension}')\n",
    "ax.set_xlabel(\"$\\\\alpha$\")\n",
    "ax.set_ylabel(\"average distance\")\n",
    "plt.savefig(f'avg-distance-d{dimension}-n{n}.pdf')\n",
    "plt.show()"
   ]
  }
 ],
 "metadata": {
  "kernelspec": {
   "display_name": "Python 3 (ipykernel)",
   "language": "python",
   "name": "python3"
  },
  "language_info": {
   "codemirror_mode": {
    "name": "ipython",
    "version": 3
   },
   "file_extension": ".py",
   "mimetype": "text/x-python",
   "name": "python",
   "nbconvert_exporter": "python",
   "pygments_lexer": "ipython3",
   "version": "3.11.2"
  }
 },
 "nbformat": 4,
 "nbformat_minor": 5
}
