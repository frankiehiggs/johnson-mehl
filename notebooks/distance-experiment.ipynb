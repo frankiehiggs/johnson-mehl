{
 "cells": [
  {
   "cell_type": "code",
   "execution_count": null,
   "id": "1347cfa0-7891-41f4-9ab9-b7d69a310b48",
   "metadata": {},
   "outputs": [],
   "source": [
    "import numpy as np\n",
    "from scipy.spatial import KDTree\n",
    "from tqdm import tqdm, trange\n",
    "import sys, os\n",
    "import matplotlib.pyplot as plt\n",
    "%matplotlib inline\n",
    "\n",
    "from IPython.display import clear_output\n",
    "\n",
    "from multiprocessing import Pool\n",
    "\n",
    "from jmutils import sample_points, get_ball_pixels, assign_cells_random_radii, get_overtake_times"
   ]
  },
  {
   "cell_type": "markdown",
   "id": "4fbd6d99-d0d9-4f4e-a87c-d3e2127ca09c",
   "metadata": {},
   "source": [
    "## Distance between last covered point and the seed which covers it\n",
    "\n",
    "To test the conjecture about whether one fast-growing ball covers the whole space at the coverage time, we'll measure the average distance between the last pixel to be covered and the seed which covers it (and maybe whether that seed also covers the whole space at the coverage time, which is pretty easy to check).\n",
    "\n",
    "Since we're not drawing a picture, there's no real reason to restrict ourselves to $d=2$ here; we could do it for $d=3$ and even $d \\geq 4$. Moulinec's algorithm still works perfectly well, although computing the points in each ball may be slow.\n",
    "\n",
    "Could I speed things up by just checking the last point _on the boundary_ to be covered?"
   ]
  },
  {
   "cell_type": "code",
   "execution_count": null,
   "id": "20a0accb-7344-4c80-94e8-b0c4186a958b",
   "metadata": {},
   "outputs": [],
   "source": [
    "n = 1000\n",
    "dimension = 2\n",
    "resolution = 100\n",
    "repetitions = 200\n",
    "exponents = np.linspace(0.5,2.5,21,endpoint=True)\n",
    "PARALLEL = 10"
   ]
  },
  {
   "cell_type": "code",
   "execution_count": null,
   "id": "84ed9f04-4189-4515-9ace-071a9332f94b",
   "metadata": {},
   "outputs": [],
   "source": [
    "# Multiprocessing approach.\n",
    "max_time = 2*np.sqrt( np.log(n) / (np.pi * n) )\n",
    "distances = np.zeros_like(exponents)\n",
    "\n",
    "def get_distance(a):\n",
    "    rates = U**(-1/a)\n",
    "    overtaken = get_overtake_times(rates,dists,fastest_index)\n",
    "    assignments, times = assign_cells_random_radii(seeds,rates,overtaken,resolution,max_time)\n",
    "    last = np.unravel_index(np.argmax(times),times.shape)\n",
    "    last_location = np.array( [last[0] / (resolution-1), last[1] / (resolution-1)] )\n",
    "    covered_by = assignments[last]\n",
    "    return np.linalg.norm(last_location - seeds[covered_by])\n",
    "\n",
    "def live_plot(data):\n",
    "    clear_output(wait=True)\n",
    "    fig,ax = plt.subplots()\n",
    "    ax.plot(exponents,data)\n",
    "    ax.set_ylim(0,np.sqrt(2))\n",
    "    plt.show()\n",
    "\n",
    "# progress = trange(repetitions)\n",
    "for k in trange(repetitions):\n",
    "    seeds = sample_points(n,d=dimension)\n",
    "    U = np.random.random(size=seeds.shape[0]) # Random heavy-tailed radii\n",
    "    fastest_index = np.argmin(U)\n",
    "    fastest_seed = seeds[fastest_index]\n",
    "    dists = np.linalg.norm(seeds - fastest_seed, axis=1)\n",
    "    # # U = np.ones(seeds.shape[0]) # We could test it with Voronoi cells - the distance should be pretty small.\n",
    "    with Pool(PARALLEL) as p:\n",
    "        new_distance = p.map(get_distance, exponents)\n",
    "    distances += new_distance\n",
    "    live_plot(distances/(k+1))\n",
    "distances /= repetitions"
   ]
  },
  {
   "cell_type": "code",
   "execution_count": null,
   "id": "bab80fff-bd4e-4a93-b9f8-e86cd4e70cf6",
   "metadata": {},
   "outputs": [],
   "source": [
    "fig, ax = plt.subplots()\n",
    "ax.plot(exponents,distances)\n",
    "ax.set_title(f'n={n}')\n",
    "ax.set_xlabel(\"$\\\\alpha$\")\n",
    "ax.set_ylabel(\"average distance\")\n",
    "plt.savefig(f'avg-distance-n{n}.pdf')\n",
    "plt.show()"
   ]
  }
 ],
 "metadata": {
  "kernelspec": {
   "display_name": "Python 3 (ipykernel)",
   "language": "python",
   "name": "python3"
  },
  "language_info": {
   "codemirror_mode": {
    "name": "ipython",
    "version": 3
   },
   "file_extension": ".py",
   "mimetype": "text/x-python",
   "name": "python",
   "nbconvert_exporter": "python",
   "pygments_lexer": "ipython3",
   "version": "3.11.2"
  }
 },
 "nbformat": 4,
 "nbformat_minor": 5
}
