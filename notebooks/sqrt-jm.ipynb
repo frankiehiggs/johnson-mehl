{
 "cells": [
  {
   "cell_type": "code",
   "execution_count": null,
   "id": "7a057b76-8a52-4cf5-9449-6ab1d2aac6ef",
   "metadata": {},
   "outputs": [],
   "source": [
    "import numpy as np\n",
    "from scipy.spatial import KDTree\n",
    "from unconstrained import sample_points\n",
    "from tqdm import trange\n",
    "import timeit\n",
    "from numba import jit"
   ]
  },
  {
   "cell_type": "code",
   "execution_count": null,
   "id": "2f6e20d3-ee1e-4866-86fb-f0a476ab99fb",
   "metadata": {},
   "outputs": [],
   "source": [
    "def get_arrival_times( rho, max_time=1.0, R=0 ):\n",
    "    rate = rho*(1+2*R)**2\n",
    "    Nmax = int(max_time*rate + 2*np.sqrt(max_time*rate)) # Two standard deviations above the mean\n",
    "    interarrival_times = np.random.exponential(scale=1/rate,size=Nmax)\n",
    "    arrival_times = np.cumsum(interarrival_times)\n",
    "    too_late = np.searchsorted(arrival_times,max_time,side='right') # First index where the arrival time is at least max_time\n",
    "    while too_late == Nmax: # This will be the case if we are unlucky and Nmax points arrived before time max_time. We'll just generate more points.\n",
    "        interarrival_times = np.append(interarrival_times, np.random.exponential(scale=1/rate,size=Nmax))\n",
    "        arrival_times = np.cumsum(interarrival_times)\n",
    "        too_late = np.searchsorted(arrival_times,max_time,side='right') # First index where the arrival time is at least max_time\n",
    "    return arrival_times[:too_late].copy()\n",
    "\n",
    "@jit(nopython=True)\n",
    "def prune_arrivals( times, locations ):\n",
    "    \"\"\"\n",
    "    Given a list of arrival times and locations,\n",
    "    returns the list of indices which are not covered by earlier points,\n",
    "    i.e. those which arrived in empty space.\n",
    "    \n",
    "    A little slow, but saves a lot of time later.\n",
    "    \"\"\"\n",
    "    N = len(times)\n",
    "    indices = [0]\n",
    "    for i in range(1,N):\n",
    "        covered = False\n",
    "        x = locations[i]\n",
    "        t = times[i]\n",
    "        for j in indices:\n",
    "            vec = locations[j] - x\n",
    "            radius2 = t - times[j]\n",
    "            d2 = np.dot(vec,vec)\n",
    "            if d2 < radius2:\n",
    "                covered=True\n",
    "                break\n",
    "        if not covered:\n",
    "            indices.append(i)\n",
    "    return indices"
   ]
  },
  {
   "cell_type": "code",
   "execution_count": null,
   "id": "1b07835a-0680-4cf8-97ef-d238654f3d7a",
   "metadata": {},
   "outputs": [],
   "source": [
    "rho = 1000000\n",
    "\n",
    "times = get_arrival_times(rho)\n",
    "seeds = sample_points(len(times))\n",
    "arrived = prune_arrivals(times, seeds)\n",
    "print(f'{len(arrived)} out of {len(times)} seeds germinated.')\n",
    "times = times[arrived]\n",
    "seeds = seeds[arrived]"
   ]
  },
  {
   "cell_type": "code",
   "execution_count": null,
   "id": "287d4cbc-537f-4c57-9137-1ca96eb2c61d",
   "metadata": {},
   "outputs": [],
   "source": [
    "def get_ball_pixels(centre, radius, img_size):\n",
    "    \"\"\"\n",
    "    Returns the indices of the pixels in the picture\n",
    "    corresponding to a ball centred at a point in [0,1]^2\n",
    "    of a given radius.\n",
    "    Also saves the corresponding (squared) distances.\n",
    "    \n",
    "    I suspect a numpy-ish method would be faster:\n",
    "    create a 2d array containing the (squared) distance between each point in [min_i,max_i]x[min_j,max_j]\n",
    "    and v, then turn that into an array of bools which we can return along with the distances.\n",
    "    We might need to also then return (min_i, min_j) so the bool array can be aligned within the image.    \n",
    "    \"\"\"\n",
    "    if radius <= 0:\n",
    "        return [], []\n",
    "    v = (img_size-1)*centre\n",
    "    x,y = v[0], v[1]\n",
    "    r = (img_size-1)*radius\n",
    "    r2 = r*r\n",
    "    min_i = max( 0, int(x-r) )\n",
    "    max_i = min( img_size-1, int(x+r)+1 )\n",
    "    min_j = max( 0, int(y-r) )\n",
    "    max_j = min( img_size-1, int(y+r)+1 )\n",
    "    in_ball = []\n",
    "    sq_distances = []\n",
    "    for i in range(min_i, max_i+1):\n",
    "        dx2 = (x-i)*(x-i)\n",
    "        if dx2 > r2:\n",
    "            continue\n",
    "        w = np.sqrt( r2 - dx2 )\n",
    "        for j in range(max(int(y-w),min_j), min(int(y+w)+2,max_j+1)):\n",
    "            d2 = dx2 + (y-j)**2\n",
    "            if d2 <= r2:\n",
    "                in_ball.append((i,j))\n",
    "                sq_distances.append(d2)\n",
    "    return in_ball, sq_distances\n",
    "\n",
    "def assign_cells( seeds, times, img_size, T=1.0 ):\n",
    "    \"\"\"\n",
    "    Assigns all the pixels in an img_size x img_size picture\n",
    "    to their respective Johnson-Mehl cells.\n",
    "    T should be a decent upper bound on the coverage time - smaller T\n",
    "    means we check fewer points.\n",
    "    This is a modified version of Moulinec's algorithm,\n",
    "    in which we assign things which were covered by time T,\n",
    "    and leave the rest unassigned.\n",
    "    \"\"\"\n",
    "    min_cov_times = np.full((img_size,img_size),np.inf) # running minimum coverage times\n",
    "    assignments = np.full((img_size,img_size),-1,dtype=int) # everything uncovered is assigned to a separate class.\n",
    "\n",
    "    for i in trange(len(times)):\n",
    "        xi = seeds[i]\n",
    "        ti = times[i]\n",
    "        radius = np.sqrt(max(0,T-ti))\n",
    "        indices, d2s = get_ball_pixels(xi, radius, img_size)\n",
    "        for k, ij_pair in enumerate(indices):\n",
    "            cov_time = np.sqrt(np.sqrt(d2s[k])/img_size) + ti\n",
    "            if cov_time < min_cov_times[ij_pair]:\n",
    "                assignments[ij_pair] = i\n",
    "                min_cov_times[ij_pair] = cov_time\n",
    "    return assignments"
   ]
  },
  {
   "cell_type": "code",
   "execution_count": null,
   "id": "9b826c11-e3f4-4798-a0b1-8a7dbc075a09",
   "metadata": {},
   "outputs": [],
   "source": [
    "img_size = 1920\n",
    "\n",
    "max_time = 1.5*( (2*np.log(rho) + 4*np.log(np.log(rho))) / (np.pi*rho) )**(1/3)\n",
    "I = assign_cells(seeds, times, img_size, T=max_time)\n",
    "# print(I)"
   ]
  },
  {
   "cell_type": "code",
   "execution_count": null,
   "id": "0115c2d4-4568-42c5-9098-0572eaec078d",
   "metadata": {
    "jupyter": {
     "source_hidden": true
    }
   },
   "outputs": [],
   "source": [
    "import networkx # Contains a Graph object which we'll use to store the cell structure.\n",
    "def get_adjacency(cell_assignments, blanklabel=-1):\n",
    "    G = networkx.Graph()\n",
    "    #G.add_nodes_from(range(cell_assignments.max()+1)) # Uncomment this to include cells with zero pixels\n",
    "    N = cell_assignments.shape[0]\n",
    "    for i in range(N-1): # All columns except the last\n",
    "        for j in range(N-1): # All rows except the last\n",
    "            G.add_edge(cell_assignments[i,j], cell_assignments[i+1,j])\n",
    "            G.add_edge(cell_assignments[i,j], cell_assignments[i,j+1])\n",
    "        G.add_edge(cell_assignments[i,N-1],cell_assignments[i+1,N-1])\n",
    "    for j in range(N-1):\n",
    "        G.add_edge(cell_assignments[N-1,j],cell_assignments[N-1,j+1])\n",
    "    G.remove_edges_from(networkx.selfloop_edges(G)) # Not necessary for the colouring but if we want to look at the graph structure it makes it a bit cleaner.\n",
    "    G.remove_nodes_from([blanklabel]) # If there are uncovered cells, remove them from the adjacency graph.\n",
    "    return G"
   ]
  },
  {
   "cell_type": "code",
   "execution_count": null,
   "id": "70fc49f3-c206-42ed-80ee-cedac2c8d2e4",
   "metadata": {},
   "outputs": [],
   "source": [
    "cell_structure = get_adjacency(I)\n",
    "# networkx.draw(cell_structure, with_labels=False, node_size=20)\n",
    "print(cell_structure)"
   ]
  },
  {
   "cell_type": "code",
   "execution_count": null,
   "id": "a4b35b8a-bbf8-4abb-88de-9126adaea238",
   "metadata": {
    "jupyter": {
     "source_hidden": true
    }
   },
   "outputs": [],
   "source": [
    "def colour_graph(G):\n",
    "    \"\"\"\n",
    "    Uses a greedy algorithm to colour G.\n",
    "    The \"colours\" are just integers, which can be replaced\n",
    "    with a suitable set of colours when drawing the picture later.\n",
    "    Even with a few thousand cells I've never seen it use more than\n",
    "    7 colours.\n",
    "\n",
    "    Returns a dictionary indexed by the elements of G.nodes\n",
    "    \"\"\"\n",
    "    cells = list(G.nodes).copy()\n",
    "    colours = dict.fromkeys(G.nodes)\n",
    "    \n",
    "    np.random.shuffle(cells)\n",
    "    for cell in cells:\n",
    "        new_colour = 0\n",
    "        while new_colour in [colours[v] for v in G.neighbors(cell)]:\n",
    "            new_colour += 1\n",
    "        colours[cell] = new_colour\n",
    "    return colours"
   ]
  },
  {
   "cell_type": "code",
   "execution_count": null,
   "id": "1c1568fa-dd25-42af-b496-ed6ad3396722",
   "metadata": {},
   "outputs": [],
   "source": [
    "# # Normally it's possible to find a 5-colouring in a few thousand tries, which is pretty quick.\n",
    "# # There is a non-zero (but rather small) probability that you'll get a 4-colouring, if you're feeling patient.\n",
    "colours = colour_graph(cell_structure)\n",
    "\n",
    "# i=1\n",
    "# while max(colours.values())+1 > 6:\n",
    "#     colours = colour_graph(cell_structure)\n",
    "#     i+=1\n",
    "# print(f'{i} attempts to get a {max(colours.values())+1}-colouring.')\n",
    "\n",
    "print(f'We have a {len(set(colours.values()))}-colouring of the cells.')\n",
    "# networkx.draw(cell_structure, node_size=50, node_color=list(colours.values()))"
   ]
  },
  {
   "cell_type": "markdown",
   "id": "f30dbd05-ad3f-466a-be7a-0b3ddf9737d5",
   "metadata": {},
   "source": [
    "Next we pick suitable colours.\n",
    "\n",
    "I might two independent colourings of the cells,\n",
    "so we have colours of the same luminosity and change the brightnesses.\n",
    "This means it will be a colourful diagram on the screen but will still have a valid colouring when printed in greyscale."
   ]
  },
  {
   "cell_type": "code",
   "execution_count": null,
   "id": "4caed6e4-7fbd-4f8e-8a6c-f38aed3d1c32",
   "metadata": {},
   "outputs": [],
   "source": [
    "import colorspace\n",
    "# c = colorspace.hcl_palettes().get_palette(name=\"Reds 2\")\n",
    "c = colorspace.hcl_palettes().get_palette(name=\"Emrld\")"
   ]
  },
  {
   "cell_type": "code",
   "execution_count": null,
   "id": "40272e3f-7aa2-4cc7-ac15-5cc0600da04a",
   "metadata": {},
   "outputs": [],
   "source": [
    "from PIL import Image, ImageColor\n",
    "\n",
    "hex_colours = c(max(colours.values())+1) # The last colour is for unassigned regions.\n",
    "rgb_colours = [ImageColor.getcolor(col,\"RGB\") for col in hex_colours]\n",
    "bg_colour = (252, 15,192)\n",
    "\n",
    "data = np.full((img_size, img_size, 3),0, dtype=np.uint8)\n",
    "N = I.shape[0]\n",
    "for i in range(N):\n",
    "    for j in range(N):\n",
    "        if I[i,j] >= 0:\n",
    "            data[i,j,:] = rgb_colours[colours[I[i,j]]]\n",
    "        else:\n",
    "            data[i,j,:] = bg_colour\n",
    "\n",
    "image = Image.fromarray(data)\n",
    "# image.show() # opens in system image viewer\n",
    "display(image)"
   ]
  },
  {
   "cell_type": "code",
   "execution_count": null,
   "id": "f97d323a-f31a-47ff-87fc-051e2f3ac8cf",
   "metadata": {},
   "outputs": [],
   "source": [
    "image.show()"
   ]
  }
 ],
 "metadata": {
  "kernelspec": {
   "display_name": "Python 3 (ipykernel)",
   "language": "python",
   "name": "python3"
  },
  "language_info": {
   "codemirror_mode": {
    "name": "ipython",
    "version": 3
   },
   "file_extension": ".py",
   "mimetype": "text/x-python",
   "name": "python",
   "nbconvert_exporter": "python",
   "pygments_lexer": "ipython3",
   "version": "3.11.2"
  }
 },
 "nbformat": 4,
 "nbformat_minor": 5
}
