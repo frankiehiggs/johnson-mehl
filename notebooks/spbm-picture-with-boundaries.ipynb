{
 "cells": [
  {
   "cell_type": "markdown",
   "id": "519357f0-6803-4577-987f-0119f0b9c551",
   "metadata": {},
   "source": [
    "# SPBM tessellation picture"
   ]
  },
  {
   "cell_type": "markdown",
   "id": "457b6812-80ae-4f5c-9fc1-7fd64fde6be8",
   "metadata": {},
   "source": [
    "## Outline\n",
    "1. Sample the positions and growth rates / random radii of the seeds.\n",
    "2. Assign each pixel in an image to its appropriate cell, based on which seed reaches it first.\n",
    "3. Draw the picture."
   ]
  },
  {
   "cell_type": "code",
   "execution_count": null,
   "id": "788447b4-e5ec-4155-9239-9cdefe3c4b5f",
   "metadata": {},
   "outputs": [],
   "source": [
    "import numpy as np\n",
    "from tqdm import trange, tqdm\n",
    "from PIL import Image, ImageDraw\n",
    "from draw_jm import get_ball_pixels#, assign_cells_random_radii\n",
    "from datetime import datetime"
   ]
  },
  {
   "cell_type": "markdown",
   "id": "e94e3322-73f3-4f42-87e1-0a20057a43f6",
   "metadata": {},
   "source": [
    "### Sampling arrival times and pruning"
   ]
  },
  {
   "cell_type": "code",
   "execution_count": null,
   "id": "d13d437d",
   "metadata": {
    "jupyter": {
     "source_hidden": true
    }
   },
   "outputs": [],
   "source": [
    "def sample_disc_points(sample_size):\n",
    "    # Chooses points uniformly in disc centered at (1/2,1/2) with radius 0.45 .\n",
    "    theta = 2*np.pi*np.random.random(size=(sample_size,1))\n",
    "    radius_sqrt = np.sqrt(np.random.random(size=(sample_size,1)))\n",
    "    x = 0.45*radius_sqrt * np.cos(theta) + 0.5\n",
    "    y = 0.45*radius_sqrt * np.sin(theta) + 0.5\n",
    "    return np.concatenate((x,y),axis=1)\n",
    "\n",
    "def assign_cells_random_radii(seeds, rates, img_size, T=1.0):\n",
    "    min_cov_times = np.full((img_size,img_size),np.inf) # running minimum coverage times\n",
    "    assignments = np.full((img_size,img_size),-1,dtype=int)\n",
    "    for i in range(len(rates)):\n",
    "        xi = seeds[i]\n",
    "        gi = rates[i]\n",
    "        gi2 = gi*gi\n",
    "        indices, d2s = get_ball_pixels(xi, T*gi, img_size)\n",
    "        for k, ij_pair in enumerate(indices):\n",
    "            cov_time2 = d2s[k] / gi2\n",
    "            if cov_time2 < min_cov_times[ij_pair]:\n",
    "                assignments[ij_pair] = i\n",
    "                min_cov_times[ij_pair] = cov_time2\n",
    "    if -1 in assignments: # i.e. if there were uncovered points.\n",
    "        print(\"Uncovered points found - trying again with a bigger radius.\")\n",
    "        return assign_cells_random_radii(seeds,rates,img_size,2*T) # This is slow compared to Moulinec's method of assigning the remaining unassigned pixels individually.\n",
    "    return assignments, min_cov_times"
   ]
  },
  {
   "cell_type": "code",
   "execution_count": null,
   "id": "7b970c8c-6756-458a-b049-dd7a28c117e6",
   "metadata": {},
   "outputs": [],
   "source": [
    "arrival_rate = 15 # The rate at which points arrive in the disc, equivalent to rho * |A| in the paper.\n",
    "n = np.random.poisson(arrival_rate)\n",
    "max_time = 2*( np.log(n) / (np.pi*n) )**(1/2)\n",
    "\n",
    "seeds = sample_disc_points(n)\n",
    "rates = np.random.exponential(size=n)"
   ]
  },
  {
   "cell_type": "markdown",
   "id": "b74d9b8a-569c-4a1e-b618-dd9ffeaa39b1",
   "metadata": {},
   "source": [
    "### Assigning pixels to their cells\n",
    "\n",
    "We use a modified version of the algorithm from [\"A simple and fast algorithm for computing discrete Voronoi, Johnson-Mehl or Laguerre diagrams of points\"](https://www.sciencedirect.com/science/article/pii/S0965997822000618). See our file `jm-picture-with-boundaries.ipynb` for a simple summary of how the algorithm works."
   ]
  },
  {
   "cell_type": "code",
   "execution_count": null,
   "id": "e2c616c6-9f82-4d9e-8e85-b64d4ce50bb6",
   "metadata": {},
   "outputs": [],
   "source": [
    "img_size = 2000\n",
    "\n",
    "# Compute the assignment and coverage time of each pixel,\n",
    "# and the location of the last point covered.\n",
    "\n",
    "I_full, cov_times = assign_cells_random_radii(seeds, rates, img_size, T=max_time)\n",
    "# print(I)\n",
    "A,_ = get_ball_pixels(np.array([0.5,0.5]), 0.45, img_size)\n",
    "I = np.full((img_size,img_size),-1,dtype=int)\n",
    "max_cov_time = 0\n",
    "max_time_location = (0,0)\n",
    "for ij in A:\n",
    "    I[ij] = I_full[ij]\n",
    "    if cov_times[ij] > max_cov_time:\n",
    "        max_cov_time = cov_times[ij]\n",
    "        max_time_location = ij"
   ]
  },
  {
   "cell_type": "markdown",
   "id": "988b4db6-7c9b-49c6-9d25-cd8c86bf1e59",
   "metadata": {},
   "source": [
    "### Finding the boundaries\n",
    "\n",
    "We'll go through each pixel in the image and check if it is near more than one cell.\n",
    "If it is then we declare it part of a boundary and colour it black.\n",
    "This is a very inefficient way to do it.\n",
    "Thinner boundaries are computed faster."
   ]
  },
  {
   "cell_type": "code",
   "execution_count": null,
   "id": "21735189-f55c-48d5-9a04-7cc4b6702acd",
   "metadata": {},
   "outputs": [],
   "source": [
    "boundary_thickness = 0.0015\n",
    "# Go through I and if any point has more than one cell nearby to it, colour it black.\n",
    "in_boundary = np.full((img_size,img_size),0,dtype=int)\n",
    "spacing = np.linspace(0,1,num=img_size,endpoint=True)\n",
    "for i, x in enumerate(tqdm(spacing)):\n",
    "    for j, y in enumerate(spacing):\n",
    "        v = np.array([x,y])\n",
    "        local_ball,_ = get_ball_pixels(v,boundary_thickness,img_size)\n",
    "        cells = { I[ij] for ij in local_ball }\n",
    "        if len(cells) >= 2:\n",
    "            in_boundary[i,j] = 1"
   ]
  },
  {
   "cell_type": "code",
   "execution_count": null,
   "id": "ba65a84f-3580-4f37-9dbe-af84910abc9e",
   "metadata": {},
   "outputs": [],
   "source": [
    "def seed_colour(i):\n",
    "    # Returns the colour of the ith seed.\n",
    "    # It just returns red, but we've left it here\n",
    "    # to match the code for the JM diagrams.\n",
    "    return (255, 0, 0)\n",
    "\n",
    "def seed_size(i):\n",
    "    # Returns the size of the ith seed.\n",
    "    # Faster-growing seeds should be larger.\n",
    "    speed = rates[i]\n",
    "    max_speed = np.max(rates)\n",
    "    p = speed/max_speed\n",
    "    return (0.02*p + 0.005*(1-p))*img_size"
   ]
  },
  {
   "cell_type": "code",
   "execution_count": null,
   "id": "16b731c3-9472-42eb-bb6f-d970287c9275",
   "metadata": {},
   "outputs": [],
   "source": [
    "cell_colour = (255,255,255)\n",
    "boundary_colour = (0,0,0)\n",
    "box_size = 0.03*img_size\n",
    "\n",
    "data = np.full((img_size, img_size, 3),255, dtype=np.uint8)\n",
    "image = Image.fromarray(data)\n",
    "draw = ImageDraw.Draw(image)\n",
    "for i,v in enumerate(seeds):\n",
    "    x,y = (img_size-1)*v\n",
    "    draw.ellipse([y-0.5*seed_size(i),x-0.5*seed_size(i),\n",
    "                  y+0.5*seed_size(i),x+0.5*seed_size(i)],\n",
    "                 fill=seed_colour(i))\n",
    "N = I.shape[0]\n",
    "for i in range(N):\n",
    "    for j in range(N):\n",
    "        if (i - 0.5*(img_size-1))**2 + (j - 0.5*(img_size-1))**2 > (0.45*(img_size))**2:\n",
    "            draw.point([j,i],fill=cell_colour)\n",
    "        if in_boundary[i,j]:\n",
    "            draw.point([j,i],fill=boundary_colour)\n",
    "\n",
    "draw.rectangle([max_time_location[1]-0.5*box_size,max_time_location[0]-0.5*box_size,\n",
    "                max_time_location[1]+0.5*box_size,max_time_location[0]+0.5*box_size],outline=\"blue\",width=10)\n",
    "\n",
    "# image.show() # opens in system image viewer\n",
    "display(image)"
   ]
  },
  {
   "cell_type": "code",
   "execution_count": null,
   "id": "3d522e39-5b2a-49b8-851a-5483640c2d46",
   "metadata": {},
   "outputs": [],
   "source": [
    "# image.show()\n",
    "now = datetime.now().isoformat()\n",
    "image.save(f\"pictures/spbm-tessellation-{now}.png\")"
   ]
  },
  {
   "cell_type": "markdown",
   "id": "c4e55fc6-e687-4d33-91a1-b6bef118b907",
   "metadata": {},
   "source": [
    "## All that, but in a loop"
   ]
  },
  {
   "cell_type": "code",
   "execution_count": null,
   "id": "fb0bfca1-e56a-44b0-a084-b6a113ff0017",
   "metadata": {},
   "outputs": [],
   "source": [
    "while True:\n",
    "    arrival_rate = 15 # The rate at which points arrive in the disc, equivalent to rho * |A| in the paper.\n",
    "    n = np.random.poisson(arrival_rate)\n",
    "    max_time = 2*( np.log(n) / (np.pi*n) )**(1/2)\n",
    "    seeds = sample_disc_points(n)\n",
    "    rates = np.random.exponential(1.0/0.45,size=n)\n",
    "    img_size = 2000\n",
    "\n",
    "    I_full, cov_times = assign_cells_random_radii(seeds, rates, img_size, T=max_time)\n",
    "    A,_ = get_ball_pixels(np.array([0.5,0.5]), 0.45, img_size)\n",
    "    I = np.full((img_size,img_size),-1,dtype=int)\n",
    "    max_cov_time = 0\n",
    "    max_time_location = (0,0)\n",
    "    for ij in A:\n",
    "        I[ij] = I_full[ij]\n",
    "        if cov_times[ij] > max_cov_time:\n",
    "            max_cov_time = cov_times[ij]\n",
    "            max_time_location = ij\n",
    "\n",
    "    boundary_thickness = 0.0015\n",
    "    # Go through I and if any point has more than one cell nearby to it, colour it black.\n",
    "    in_boundary = np.full((img_size,img_size),0,dtype=int)\n",
    "    spacing = np.linspace(0,1,num=img_size,endpoint=True)\n",
    "    for i, x in enumerate(tqdm(spacing)):\n",
    "        for j, y in enumerate(spacing):\n",
    "            v = np.array([x,y])\n",
    "            local_ball,_ = get_ball_pixels(v,boundary_thickness,img_size)\n",
    "            cells = { I[ij] for ij in local_ball }\n",
    "            if len(cells) >= 2:\n",
    "                in_boundary[i,j] = 1\n",
    "\n",
    "    def seed_colour(i):\n",
    "        # Returns the colour of the ith seed.\n",
    "        return (255, 0, 0)\n",
    "\n",
    "    def seed_size(i):\n",
    "        # Returns the size of the ith seed.\n",
    "        # Faster-growing seeds should be larger.\n",
    "        speed = rates[i]\n",
    "        max_speed = np.max(rates)\n",
    "        p = speed/max_speed\n",
    "        return (0.02*p + 0.005*(1-p))*img_size\n",
    "\n",
    "    cell_colour = (255,255,255)\n",
    "    boundary_colour = (0,0,0)\n",
    "    #seed_size = 0.01*img_size\n",
    "    box_size = 0.03*img_size\n",
    "\n",
    "    data = np.full((img_size, img_size, 3),255, dtype=np.uint8)\n",
    "    image = Image.fromarray(data)\n",
    "    draw = ImageDraw.Draw(image)\n",
    "    for i,v in enumerate(seeds):\n",
    "        x,y = (img_size-1)*v\n",
    "        s = seed_size(i)\n",
    "        draw.ellipse([y-0.5*s,x-0.5*s,\n",
    "                      y+0.5*s,x+0.5*s],\n",
    "                     fill=seed_colour(i))\n",
    "    N = I.shape[0]\n",
    "    for i in range(N):\n",
    "        for j in range(N):\n",
    "            if (i - 0.5*(img_size-1))**2 + (j - 0.5*(img_size-1))**2 > (0.45*(img_size))**2:\n",
    "                draw.point([j,i],fill=cell_colour)\n",
    "            if in_boundary[i,j]:\n",
    "                draw.point([j,i],fill=boundary_colour)\n",
    "\n",
    "    draw.rectangle([max_time_location[1]-0.5*box_size,max_time_location[0]-0.5*box_size,\n",
    "                    max_time_location[1]+0.5*box_size,max_time_location[0]+0.5*box_size],outline=\"blue\",width=10)\n",
    "\n",
    "    now = datetime.now().isoformat()\n",
    "    image.save(f\"pictures/spbm-tessellation-{now}.png\")"
   ]
  }
 ],
 "metadata": {
  "kernelspec": {
   "display_name": "Python 3 (ipykernel)",
   "language": "python",
   "name": "python3"
  },
  "language_info": {
   "codemirror_mode": {
    "name": "ipython",
    "version": 3
   },
   "file_extension": ".py",
   "mimetype": "text/x-python",
   "name": "python",
   "nbconvert_exporter": "python",
   "pygments_lexer": "ipython3",
   "version": "3.11.2"
  }
 },
 "nbformat": 4,
 "nbformat_minor": 5
}
