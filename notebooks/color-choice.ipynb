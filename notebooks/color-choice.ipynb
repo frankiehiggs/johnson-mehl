{
 "cells": [
  {
   "cell_type": "markdown",
   "id": "2101d081-75ad-4102-8a3d-7b40c5dc4a86",
   "metadata": {},
   "source": [
    "# Choice of colours\n"
   ]
  },
  {
   "cell_type": "code",
   "execution_count": null,
   "id": "c7523a0a-aafb-4f65-898a-ca5932120722",
   "metadata": {},
   "outputs": [],
   "source": [
    "import numpy as np\n",
    "import colorspace\n",
    "import matplotlib.pyplot as plt"
   ]
  },
  {
   "cell_type": "code",
   "execution_count": null,
   "id": "6a307e48-ccd6-48b6-8412-d503a0620bf8",
   "metadata": {},
   "outputs": [],
   "source": [
    "from fast_jm import g, limit, chiu_limit"
   ]
  },
  {
   "cell_type": "markdown",
   "id": "058f9382-9bd9-42be-837d-69785350893e",
   "metadata": {},
   "source": [
    "There are four curves on the diagram, so let's chose colours to distinguish between them."
   ]
  },
  {
   "cell_type": "code",
   "execution_count": null,
   "id": "cfc1dea0-4edd-410a-aef3-656cd7f0ebaf",
   "metadata": {},
   "outputs": [],
   "source": [
    "def jm_diagram(colours, save=False):\n",
    "    \"\"\"\n",
    "    'colours' should be a list of four colours.\n",
    "    \"\"\"\n",
    "    rho = 1000000\n",
    "    fig, ax = plt.subplots()\n",
    "    c_samples = np.genfromtxt(f'data/rho{rho}-coverage-times.csv')\n",
    "    u_samples = np.genfromtxt(f'data/unconstrained-rho{rho}-coverage-times.csv')\n",
    "\n",
    "    my_range = np.arange(min(-20,min(c_samples)-0.1,min(u_samples)-0.1),max(50,max(c_samples)+0.1,max(u_samples)+0.1),0.1)\n",
    "\n",
    "    c_curve = g(rho,c_samples) # constrained JM\n",
    "    u_curve = g(rho,u_samples) # unconstrained\n",
    "    c_curve.sort()\n",
    "    u_curve.sort()\n",
    "    ax.plot(c_curve, (np.arange(c_curve.size)+1)/c_curve.size, colours[0], linewidth=2, label=\"Empirical distribution of $g(T_\\\\rho,\\\\rho)$\")\n",
    "    c_limit = limit(my_range)\n",
    "    ax.plot(my_range, c_limit, colours[1],linestyle='dashed',linewidth=1.5,label=\"Limiting cdf of $g(T_\\\\rho,\\\\rho)$ (from Thm 2.8)\")\n",
    "    ax.plot(u_curve, (np.arange(u_curve.size)+1)/u_curve.size, colours[-1], linewidth=2, label=\"Empirical distribution of $g(\\\\tilde T_\\\\rho,\\\\rho)$\")\n",
    "    u_limit = chiu_limit(my_range, rho)\n",
    "    ax.plot(my_range, u_limit, colours[-2],linestyle='dashed',linewidth=1.5,label=\"Estimated cdf of $g(\\\\tilde T_\\\\rho,\\\\rho)$ (from Chiu 1995)\")\n",
    "\n",
    "    ax.set_ylim(0,1)\n",
    "    ax.set_xlim(-10,40)\n",
    "    ax.legend(loc='lower right')\n",
    "    ax.set_title(f'Coverage time for JM processes in $[0,1]^2$ with arrival rate $\\\\rho=10^{int(np.log10(rho))}$')\n",
    "    ax.set_xlabel('$\\\\beta$')\n",
    "    ax.set_ylabel('')\n",
    "    fig.tight_layout()\n",
    "    if save:\n",
    "        fig.savefig('jm_diagram.pdf')\n",
    "        fig.savefig('jm_diagram.png')\n",
    "    plt.show()"
   ]
  },
  {
   "cell_type": "markdown",
   "id": "0353bdf6-5054-4628-a312-5cad7d1a12e4",
   "metadata": {},
   "source": [
    "`colorspace` provides lots of choices for spectra. The `qualitative_hcl` ones are good for categorical data like ours, except they don't look very good when printed in black and white.\n",
    "\n",
    "Below we've chosen the `\"Harmonic\"` palette from `colorspace`, removed the middle 20 percent, then (so that they're different in greyscale) lightened half the colours while darkening the other."
   ]
  },
  {
   "cell_type": "code",
   "execution_count": null,
   "id": "00f80d7c-49f1-477c-931c-01b668ba578f",
   "metadata": {},
   "outputs": [],
   "source": [
    "c = colorspace.qualitative_hcl(\"Harmonic\")\n",
    "colours = c(5)\n",
    "colours = [colours[i] for i in [0,1,-2,-1]]\n",
    "for i in range(2):\n",
    "    colours[i] = colorspace.utils.lighten(colours[i],0.25)\n",
    "for i in range(2,4):\n",
    "    colours[i] = colorspace.utils.darken(colours[i],0.25)\n",
    "jm_diagram(colours, save=False)"
   ]
  },
  {
   "cell_type": "markdown",
   "id": "c381857c-1808-4f16-a274-b58734354465",
   "metadata": {},
   "source": [
    "The above kind of works, except the yellows are a bit unpleasant. There are other palettes available from `colorspace`.\n",
    "\n",
    "An alternative approach would be to make two curves different shades of red (the boundary-effect curve and its limit), and the other curves two shades of blue. Then after a little fiddling with the brightness again, that might look good. It gives us a lot of parameters to tune - which shades we use and how much darkening/brightening."
   ]
  },
  {
   "cell_type": "code",
   "execution_count": null,
   "id": "59f01cd4-c763-43bc-914c-bfe95b010297",
   "metadata": {},
   "outputs": [],
   "source": [
    "reds  = colorspace.sequential_hcl('Reds')\n",
    "blues = colorspace.sequential_hcl('Blues')\n",
    "w = 100\n",
    "p1 = 0.3\n",
    "p2 = 0.5\n",
    "lblue = -0.33\n",
    "lred = 0.33\n",
    "r1 = reds(w)[int(p1*w)]\n",
    "r2 = reds(w)[int(p2*w)]\n",
    "b1 = blues(w)[int(p1*w)]\n",
    "b2 = blues(w)[int(p2*w)]\n",
    "b1 = colorspace.utils.lighten(b1,lblue)\n",
    "b2 = colorspace.utils.lighten(b2,lblue)\n",
    "r1 = colorspace.utils.lighten(r1,lred)\n",
    "r2 = colorspace.utils.lighten(r2,lred)\n",
    "colours = [r1, r2, b2, b1]\n",
    "jm_diagram(colours, save=False)"
   ]
  },
  {
   "cell_type": "markdown",
   "id": "cdbb32ce-4e4d-48db-bacd-50f8a5f7e09e",
   "metadata": {},
   "source": [
    "The above was maybe a bit too complicated. Since the limiting curves are dashed and slightly thinner than the empirical curves, there's no need to change their colour. We could try setting both boundary-effect curves to red, both no-boundary-effect curves to blue, then change the lightness."
   ]
  },
  {
   "cell_type": "code",
   "execution_count": null,
   "id": "a14a5e5d-8ba5-4996-9320-4b59f3ed5438",
   "metadata": {},
   "outputs": [],
   "source": [
    "lblue = -0.4\n",
    "lred = 0.4\n",
    "\n",
    "r = '#ff0000'\n",
    "b = '#0000ff'\n",
    "b = colorspace.utils.lighten(b,lblue)\n",
    "r = colorspace.utils.lighten(r,lred)\n",
    "colours = [r, r, b, b]\n",
    "jm_diagram(colours, save=True)"
   ]
  },
  {
   "cell_type": "markdown",
   "id": "7bf0abcb-74ec-4dff-9a2c-71c682b021bb",
   "metadata": {},
   "source": [
    "I think this simple one with two colours looks the best.\n",
    "\n",
    "Another useful feature of `colorspace` is `cvd_emulator()`, which lets us simulate colour-blindness (as well as what our diagrams will look like when printed in greyscale). Let's use it to check the final version of our diagram will look good for all readers:"
   ]
  },
  {
   "cell_type": "code",
   "execution_count": null,
   "id": "a496939a-1d18-4674-9311-984e2f8dea05",
   "metadata": {},
   "outputs": [],
   "source": [
    "# colorspace.cvd_emulator('jm_diagram.png', [\"desaturate\", \"deutan\", \"protan\", \"tritan\"],figsize=(8,6))\n",
    "colorspace.cvd_emulator('frames/jm-0.81500.png', [\"desaturate\", \"deutan\", \"protan\", \"tritan\"],figsize=(8,6))"
   ]
  },
  {
   "cell_type": "code",
   "execution_count": null,
   "id": "f4569ecf-741a-49eb-b5aa-c11e364a82f7",
   "metadata": {},
   "outputs": [],
   "source": []
  },
  {
   "cell_type": "code",
   "execution_count": null,
   "id": "f67074d3-6797-428b-9dce-76b3c5016fa6",
   "metadata": {},
   "outputs": [],
   "source": []
  }
 ],
 "metadata": {
  "kernelspec": {
   "display_name": "veng",
   "language": "python",
   "name": "veng"
  },
  "language_info": {
   "codemirror_mode": {
    "name": "ipython",
    "version": 3
   },
   "file_extension": ".py",
   "mimetype": "text/x-python",
   "name": "python",
   "nbconvert_exporter": "python",
   "pygments_lexer": "ipython3",
   "version": "3.11.2"
  }
 },
 "nbformat": 4,
 "nbformat_minor": 5
}
